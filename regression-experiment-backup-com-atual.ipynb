{
 "cells": [
  {
   "cell_type": "code",
   "execution_count": 5,
   "metadata": {},
   "outputs": [],
   "source": [
    "import pandas as pd\n",
    "from utils import read_dataset\n",
    "\n",
    "dataset = read_dataset()"
   ]
  },
  {
   "cell_type": "code",
   "execution_count": 6,
   "metadata": {},
   "outputs": [],
   "source": [
    "from utils import read_dataset_metadata\n",
    "\n",
    "target_column, feature_columns, feature_columns_only_actual, feature_columns_with_delta, feature_columns_only_delta = read_dataset_metadata()"
   ]
  },
  {
   "cell_type": "code",
   "execution_count": 7,
   "metadata": {},
   "outputs": [],
   "source": [
    "from sklearn.linear_model import LinearRegression\n",
    "from sklearn.metrics import mean_squared_error, r2_score\n",
    "from utils import create_method_evaluator\n",
    "#from sklearn.svm import SVC\n",
    "\n",
    "regression_metrics_functions = {\n",
    "    \"MSE\": lambda y_true, y_pred: mean_squared_error(y_true, y_pred),\n",
    "    \"$R^2$\": lambda y_true, y_pred: r2_score(y_true, y_pred)\n",
    "}\n",
    "\n",
    "evaluate_regression = create_method_evaluator(LinearRegression(), regression_metrics_functions)"
   ]
  },
  {
   "cell_type": "code",
   "execution_count": 1,
   "metadata": {},
   "outputs": [],
   "source": [
    "from sklearn.model_selection import train_test_split\n",
    "from sklearn.model_selection import KFold\n",
    "from utils import get_X_y, get_X_y_without_duplicates\n",
    "\n",
    "def train_test_split_03(X, y):\n",
    "    return [(train_test_split(X, y, test_size=0.3, random_state=0))]\n",
    "\n",
    "def kfold_split_5(X, y):\n",
    "    result = []\n",
    "    for train_index, test_index in KFold(n_splits=10).split(X):\n",
    "        X_train, X_test = X.iloc[train_index], X.iloc[test_index]\n",
    "        y_train, y_test = y.iloc[train_index], y.iloc[test_index]\n",
    "        result.append((X_train, X_test, y_train, y_test))\n",
    "    return result\n",
    "\n",
    "def run_evaluation(method_evaluator, dataset, feature_columns, target_column):\n",
    "    X, y = get_X_y(dataset, feature_columns, target_column)\n",
    "    X_train, X_test, y_train, y_test = train_test_split(X, y, test_size=0.3, random_state=0)\n",
    "    return method_evaluator(X_train, y_train, X_test, y_test)\n",
    "\n",
    "def run_evaluation_without_duplicates(method_evaluator, dataset, feature_columns, target_column):\n",
    "    X, y = get_X_y_without_duplicates(dataset, feature_columns, target_column)\n",
    "    X_train, X_test, y_train, y_test = train_test_split(X, y, test_size=0.3, random_state=0)\n",
    "    return method_evaluator(X_train, y_train, X_test, y_test)\n",
    "\n",
    "def run_evaluation_with_Kfolds_without_duplicates(method_evaluator, dataset, feature_columns, target_column, get_X_y = get_X_y_without_duplicates, splitter = kfold_split_5):\n",
    "    X, y = get_X_y(dataset, feature_columns, target_column)\n",
    "    models = []\n",
    "    scores = []\n",
    "    \n",
    "    i = 0\n",
    "    for X_train, X_test, y_train, y_test in splitter(X, y):\n",
    "        model, score = method_evaluator(X_train, y_train, X_test, y_test)\n",
    "        i+=1\n",
    "        models.append(model)\n",
    "        score[0][\"fold\"] = i\n",
    "        scores += score\n",
    "    return models, scores\n",
    "\n",
    "\n"
   ]
  },
  {
   "cell_type": "code",
   "execution_count": 9,
   "metadata": {},
   "outputs": [],
   "source": [
    "# Playground\n",
    "def run_all_regressions(run_data_process, method_evaluator, dataset, feature_columns_set):\n",
    "    result = pd.DataFrame(columns = [\"features\", \"fold\", \"#\", \"MSE\", \"$R^2$\"])\n",
    "    print(f\"número de instâncias total: {len(dataset)}\")\n",
    "\n",
    "    for feature_set_name, feature_columns in feature_columns_set:\n",
    "        models, score = run_data_process(method_evaluator, dataset, feature_columns, target_column)\n",
    "        row = pd.DataFrame(score)\n",
    "        row[\"features\"] = feature_set_name\n",
    "        result = pd.concat( [result, row], sort=False)\n",
    "\n",
    "    return result\n",
    "\n",
    "def run_all_regressions_with_past_class(run_data_process):\n",
    "    params = [\n",
    "        (\"atual\", feature_columns_only_actual),\n",
    "        (\"atual e anterior\", feature_columns),\n",
    "        (\"atual, anterior e a diferença\", feature_columns_with_delta),\n",
    "        (\"diferença\", feature_columns_only_delta),\n",
    "    ]\n",
    "    return run_all_regressions(run_data_process, evaluate_regression, dataset, params)\n",
    "\n",
    "def list_except(list, except_item):\n",
    "    return [f for f in list if f != except_item]\n",
    "\n",
    "def run_all_regressions_without_past_class(run_data_process):\n",
    "    past_class = \"past_category\"\n",
    "    params = [\n",
    "        (\"atual\", list_except(feature_columns_only_actual, past_class)),\n",
    "        (\"atual e anterior\", list_except(feature_columns, past_class)),\n",
    "        (\"atual, anterior e a diferença\", list_except(feature_columns_with_delta, past_class)),\n",
    "        (\"diferença\", list_except(feature_columns_only_delta, past_class)),\n",
    "    ]\n",
    "    return run_all_regressions(run_data_process,evaluate_regression, dataset, params)"
   ]
  },
  {
   "cell_type": "code",
   "execution_count": 10,
   "metadata": {},
   "outputs": [
    {
     "name": "stdout",
     "output_type": "stream",
     "text": "número de instâncias total: 54834\n"
    },
    {
     "data": {
      "text/html": "<div>\n<style scoped>\n    .dataframe tbody tr th:only-of-type {\n        vertical-align: middle;\n    }\n\n    .dataframe tbody tr th {\n        vertical-align: top;\n    }\n\n    .dataframe thead th {\n        text-align: right;\n    }\n</style>\n<table border=\"1\" class=\"dataframe\">\n  <thead>\n    <tr style=\"text-align: right;\">\n      <th></th>\n      <th>features</th>\n      <th>#</th>\n      <th>MSE</th>\n      <th>$R^2$</th>\n    </tr>\n  </thead>\n  <tbody>\n    <tr>\n      <td>0</td>\n      <td>atual</td>\n      <td>54834</td>\n      <td>0.076955</td>\n      <td>0.973029</td>\n    </tr>\n    <tr>\n      <td>0</td>\n      <td>atual e anterior</td>\n      <td>54834</td>\n      <td>0.074269</td>\n      <td>0.973971</td>\n    </tr>\n    <tr>\n      <td>0</td>\n      <td>atual, anterior e a diferença</td>\n      <td>54834</td>\n      <td>0.074264</td>\n      <td>0.973973</td>\n    </tr>\n    <tr>\n      <td>0</td>\n      <td>diferença</td>\n      <td>54834</td>\n      <td>0.076483</td>\n      <td>0.973195</td>\n    </tr>\n  </tbody>\n</table>\n</div>",
      "text/plain": "                        features      #       MSE     $R^2$\n0                          atual  54834  0.076955  0.973029\n0               atual e anterior  54834  0.074269  0.973971\n0  atual, anterior e a diferença  54834  0.074264  0.973973\n0                      diferença  54834  0.076483  0.973195"
     },
     "execution_count": 10,
     "metadata": {},
     "output_type": "execute_result"
    }
   ],
   "source": [
    "evaluatio_past_class  = run_all_regressions_with_past_class(run_evaluation).drop(columns=[\"fold\"])\n",
    "evaluatio_past_class"
   ]
  },
  {
   "cell_type": "code",
   "execution_count": 11,
   "metadata": {},
   "outputs": [
    {
     "name": "stdout",
     "output_type": "stream",
     "text": "número de instâncias total: 54834\n"
    },
    {
     "data": {
      "text/html": "<div>\n<style scoped>\n    .dataframe tbody tr th:only-of-type {\n        vertical-align: middle;\n    }\n\n    .dataframe tbody tr th {\n        vertical-align: top;\n    }\n\n    .dataframe thead th {\n        text-align: right;\n    }\n</style>\n<table border=\"1\" class=\"dataframe\">\n  <thead>\n    <tr style=\"text-align: right;\">\n      <th></th>\n      <th>features</th>\n      <th>#</th>\n      <th>MSE</th>\n      <th>$R^2$</th>\n    </tr>\n  </thead>\n  <tbody>\n    <tr>\n      <td>0</td>\n      <td>atual</td>\n      <td>38592</td>\n      <td>0.089481</td>\n      <td>0.963670</td>\n    </tr>\n    <tr>\n      <td>0</td>\n      <td>atual e anterior</td>\n      <td>47063</td>\n      <td>0.072858</td>\n      <td>0.972244</td>\n    </tr>\n    <tr>\n      <td>0</td>\n      <td>atual, anterior e a diferença</td>\n      <td>47063</td>\n      <td>0.072858</td>\n      <td>0.972244</td>\n    </tr>\n    <tr>\n      <td>0</td>\n      <td>diferença</td>\n      <td>38234</td>\n      <td>0.108685</td>\n      <td>0.955649</td>\n    </tr>\n  </tbody>\n</table>\n</div>",
      "text/plain": "                        features      #       MSE     $R^2$\n0                          atual  38592  0.089481  0.963670\n0               atual e anterior  47063  0.072858  0.972244\n0  atual, anterior e a diferença  47063  0.072858  0.972244\n0                      diferença  38234  0.108685  0.955649"
     },
     "execution_count": 11,
     "metadata": {},
     "output_type": "execute_result"
    }
   ],
   "source": [
    "evaluatio_past_class_wo_duplicates = run_all_regressions_with_past_class(run_evaluation_without_duplicates).drop(columns=[\"fold\"])\n",
    "evaluatio_past_class_wo_duplicates"
   ]
  },
  {
   "cell_type": "code",
   "execution_count": 12,
   "metadata": {},
   "outputs": [
    {
     "name": "stdout",
     "output_type": "stream",
     "text": "número de instâncias total: 54834\n"
    },
    {
     "data": {
      "text/html": "<div>\n<style scoped>\n    .dataframe tbody tr th:only-of-type {\n        vertical-align: middle;\n    }\n\n    .dataframe tbody tr th {\n        vertical-align: top;\n    }\n\n    .dataframe thead th {\n        text-align: right;\n    }\n</style>\n<table border=\"1\" class=\"dataframe\">\n  <thead>\n    <tr style=\"text-align: right;\">\n      <th></th>\n      <th>features</th>\n      <th>fold</th>\n      <th>#</th>\n      <th>MSE</th>\n      <th>$R^2$</th>\n    </tr>\n  </thead>\n  <tbody>\n    <tr>\n      <td>0</td>\n      <td>atual</td>\n      <td>1</td>\n      <td>38592</td>\n      <td>0.262095</td>\n      <td>0.853502</td>\n    </tr>\n    <tr>\n      <td>1</td>\n      <td>atual</td>\n      <td>2</td>\n      <td>38592</td>\n      <td>0.256972</td>\n      <td>0.832344</td>\n    </tr>\n    <tr>\n      <td>2</td>\n      <td>atual</td>\n      <td>3</td>\n      <td>38592</td>\n      <td>0.233123</td>\n      <td>0.861215</td>\n    </tr>\n    <tr>\n      <td>3</td>\n      <td>atual</td>\n      <td>4</td>\n      <td>38592</td>\n      <td>0.207902</td>\n      <td>0.897965</td>\n    </tr>\n    <tr>\n      <td>4</td>\n      <td>atual</td>\n      <td>5</td>\n      <td>38592</td>\n      <td>0.006511</td>\n      <td>0.997849</td>\n    </tr>\n    <tr>\n      <td>5</td>\n      <td>atual</td>\n      <td>6</td>\n      <td>38592</td>\n      <td>0.006949</td>\n      <td>0.997394</td>\n    </tr>\n    <tr>\n      <td>6</td>\n      <td>atual</td>\n      <td>7</td>\n      <td>38592</td>\n      <td>0.007682</td>\n      <td>0.997165</td>\n    </tr>\n    <tr>\n      <td>7</td>\n      <td>atual</td>\n      <td>8</td>\n      <td>38592</td>\n      <td>0.007616</td>\n      <td>0.997312</td>\n    </tr>\n    <tr>\n      <td>8</td>\n      <td>atual</td>\n      <td>9</td>\n      <td>38592</td>\n      <td>0.006675</td>\n      <td>0.997446</td>\n    </tr>\n    <tr>\n      <td>9</td>\n      <td>atual</td>\n      <td>10</td>\n      <td>38592</td>\n      <td>0.006977</td>\n      <td>0.997534</td>\n    </tr>\n    <tr>\n      <td>0</td>\n      <td>atual e anterior</td>\n      <td>1</td>\n      <td>47063</td>\n      <td>0.217022</td>\n      <td>0.877370</td>\n    </tr>\n    <tr>\n      <td>1</td>\n      <td>atual e anterior</td>\n      <td>2</td>\n      <td>47063</td>\n      <td>0.221484</td>\n      <td>0.866598</td>\n    </tr>\n    <tr>\n      <td>2</td>\n      <td>atual e anterior</td>\n      <td>3</td>\n      <td>47063</td>\n      <td>0.198432</td>\n      <td>0.880628</td>\n    </tr>\n    <tr>\n      <td>3</td>\n      <td>atual e anterior</td>\n      <td>4</td>\n      <td>47063</td>\n      <td>0.130255</td>\n      <td>0.949207</td>\n    </tr>\n    <tr>\n      <td>4</td>\n      <td>atual e anterior</td>\n      <td>5</td>\n      <td>47063</td>\n      <td>0.005526</td>\n      <td>0.998189</td>\n    </tr>\n    <tr>\n      <td>5</td>\n      <td>atual e anterior</td>\n      <td>6</td>\n      <td>47063</td>\n      <td>0.005870</td>\n      <td>0.997940</td>\n    </tr>\n    <tr>\n      <td>6</td>\n      <td>atual e anterior</td>\n      <td>7</td>\n      <td>47063</td>\n      <td>0.005744</td>\n      <td>0.997981</td>\n    </tr>\n    <tr>\n      <td>7</td>\n      <td>atual e anterior</td>\n      <td>8</td>\n      <td>47063</td>\n      <td>0.005468</td>\n      <td>0.998110</td>\n    </tr>\n    <tr>\n      <td>8</td>\n      <td>atual e anterior</td>\n      <td>9</td>\n      <td>47063</td>\n      <td>0.006096</td>\n      <td>0.997792</td>\n    </tr>\n    <tr>\n      <td>9</td>\n      <td>atual e anterior</td>\n      <td>10</td>\n      <td>47063</td>\n      <td>0.006139</td>\n      <td>0.997946</td>\n    </tr>\n    <tr>\n      <td>0</td>\n      <td>atual, anterior e a diferença</td>\n      <td>1</td>\n      <td>47063</td>\n      <td>0.217022</td>\n      <td>0.877370</td>\n    </tr>\n    <tr>\n      <td>1</td>\n      <td>atual, anterior e a diferença</td>\n      <td>2</td>\n      <td>47063</td>\n      <td>0.221489</td>\n      <td>0.866595</td>\n    </tr>\n    <tr>\n      <td>2</td>\n      <td>atual, anterior e a diferença</td>\n      <td>3</td>\n      <td>47063</td>\n      <td>0.198432</td>\n      <td>0.880628</td>\n    </tr>\n    <tr>\n      <td>3</td>\n      <td>atual, anterior e a diferença</td>\n      <td>4</td>\n      <td>47063</td>\n      <td>0.130674</td>\n      <td>0.949044</td>\n    </tr>\n    <tr>\n      <td>4</td>\n      <td>atual, anterior e a diferença</td>\n      <td>5</td>\n      <td>47063</td>\n      <td>0.005524</td>\n      <td>0.998189</td>\n    </tr>\n    <tr>\n      <td>5</td>\n      <td>atual, anterior e a diferença</td>\n      <td>6</td>\n      <td>47063</td>\n      <td>0.006148</td>\n      <td>0.997842</td>\n    </tr>\n    <tr>\n      <td>6</td>\n      <td>atual, anterior e a diferença</td>\n      <td>7</td>\n      <td>47063</td>\n      <td>0.005744</td>\n      <td>0.997981</td>\n    </tr>\n    <tr>\n      <td>7</td>\n      <td>atual, anterior e a diferença</td>\n      <td>8</td>\n      <td>47063</td>\n      <td>0.005471</td>\n      <td>0.998109</td>\n    </tr>\n    <tr>\n      <td>8</td>\n      <td>atual, anterior e a diferença</td>\n      <td>9</td>\n      <td>47063</td>\n      <td>0.006096</td>\n      <td>0.997792</td>\n    </tr>\n    <tr>\n      <td>9</td>\n      <td>atual, anterior e a diferença</td>\n      <td>10</td>\n      <td>47063</td>\n      <td>0.006139</td>\n      <td>0.997946</td>\n    </tr>\n    <tr>\n      <td>0</td>\n      <td>diferença</td>\n      <td>1</td>\n      <td>38234</td>\n      <td>0.253311</td>\n      <td>0.854429</td>\n    </tr>\n    <tr>\n      <td>1</td>\n      <td>diferença</td>\n      <td>2</td>\n      <td>38234</td>\n      <td>0.247916</td>\n      <td>0.835347</td>\n    </tr>\n    <tr>\n      <td>2</td>\n      <td>diferença</td>\n      <td>3</td>\n      <td>38234</td>\n      <td>0.238644</td>\n      <td>0.862357</td>\n    </tr>\n    <tr>\n      <td>3</td>\n      <td>diferença</td>\n      <td>4</td>\n      <td>38234</td>\n      <td>0.232645</td>\n      <td>0.878496</td>\n    </tr>\n    <tr>\n      <td>4</td>\n      <td>diferença</td>\n      <td>5</td>\n      <td>38234</td>\n      <td>0.004931</td>\n      <td>0.998355</td>\n    </tr>\n    <tr>\n      <td>5</td>\n      <td>diferença</td>\n      <td>6</td>\n      <td>38234</td>\n      <td>0.004752</td>\n      <td>0.998238</td>\n    </tr>\n    <tr>\n      <td>6</td>\n      <td>diferença</td>\n      <td>7</td>\n      <td>38234</td>\n      <td>0.005752</td>\n      <td>0.997812</td>\n    </tr>\n    <tr>\n      <td>7</td>\n      <td>diferença</td>\n      <td>8</td>\n      <td>38234</td>\n      <td>0.005604</td>\n      <td>0.997950</td>\n    </tr>\n    <tr>\n      <td>8</td>\n      <td>diferença</td>\n      <td>9</td>\n      <td>38234</td>\n      <td>0.006367</td>\n      <td>0.997592</td>\n    </tr>\n    <tr>\n      <td>9</td>\n      <td>diferença</td>\n      <td>10</td>\n      <td>38234</td>\n      <td>0.005588</td>\n      <td>0.997997</td>\n    </tr>\n  </tbody>\n</table>\n</div>",
      "text/plain": "                        features fold      #       MSE     $R^2$\n0                          atual    1  38592  0.262095  0.853502\n1                          atual    2  38592  0.256972  0.832344\n2                          atual    3  38592  0.233123  0.861215\n3                          atual    4  38592  0.207902  0.897965\n4                          atual    5  38592  0.006511  0.997849\n5                          atual    6  38592  0.006949  0.997394\n6                          atual    7  38592  0.007682  0.997165\n7                          atual    8  38592  0.007616  0.997312\n8                          atual    9  38592  0.006675  0.997446\n9                          atual   10  38592  0.006977  0.997534\n0               atual e anterior    1  47063  0.217022  0.877370\n1               atual e anterior    2  47063  0.221484  0.866598\n2               atual e anterior    3  47063  0.198432  0.880628\n3               atual e anterior    4  47063  0.130255  0.949207\n4               atual e anterior    5  47063  0.005526  0.998189\n5               atual e anterior    6  47063  0.005870  0.997940\n6               atual e anterior    7  47063  0.005744  0.997981\n7               atual e anterior    8  47063  0.005468  0.998110\n8               atual e anterior    9  47063  0.006096  0.997792\n9               atual e anterior   10  47063  0.006139  0.997946\n0  atual, anterior e a diferença    1  47063  0.217022  0.877370\n1  atual, anterior e a diferença    2  47063  0.221489  0.866595\n2  atual, anterior e a diferença    3  47063  0.198432  0.880628\n3  atual, anterior e a diferença    4  47063  0.130674  0.949044\n4  atual, anterior e a diferença    5  47063  0.005524  0.998189\n5  atual, anterior e a diferença    6  47063  0.006148  0.997842\n6  atual, anterior e a diferença    7  47063  0.005744  0.997981\n7  atual, anterior e a diferença    8  47063  0.005471  0.998109\n8  atual, anterior e a diferença    9  47063  0.006096  0.997792\n9  atual, anterior e a diferença   10  47063  0.006139  0.997946\n0                      diferença    1  38234  0.253311  0.854429\n1                      diferença    2  38234  0.247916  0.835347\n2                      diferença    3  38234  0.238644  0.862357\n3                      diferença    4  38234  0.232645  0.878496\n4                      diferença    5  38234  0.004931  0.998355\n5                      diferença    6  38234  0.004752  0.998238\n6                      diferença    7  38234  0.005752  0.997812\n7                      diferença    8  38234  0.005604  0.997950\n8                      diferença    9  38234  0.006367  0.997592\n9                      diferença   10  38234  0.005588  0.997997"
     },
     "execution_count": 12,
     "metadata": {},
     "output_type": "execute_result"
    }
   ],
   "source": [
    "evaluatio_past_class_wo_duplicates_cvk5 = run_all_regressions_with_past_class(run_evaluation_with_Kfolds_without_duplicates)\n",
    "evaluatio_past_class_wo_duplicates_cvk5"
   ]
  },
  {
   "cell_type": "code",
   "execution_count": 13,
   "metadata": {},
   "outputs": [
    {
     "name": "stdout",
     "output_type": "stream",
     "text": "número de instâncias total: 54834\n"
    },
    {
     "data": {
      "text/html": "<div>\n<style scoped>\n    .dataframe tbody tr th:only-of-type {\n        vertical-align: middle;\n    }\n\n    .dataframe tbody tr th {\n        vertical-align: top;\n    }\n\n    .dataframe thead th {\n        text-align: right;\n    }\n</style>\n<table border=\"1\" class=\"dataframe\">\n  <thead>\n    <tr style=\"text-align: right;\">\n      <th></th>\n      <th>features</th>\n      <th>#</th>\n      <th>MSE</th>\n      <th>$R^2$</th>\n    </tr>\n  </thead>\n  <tbody>\n    <tr>\n      <td>0</td>\n      <td>atual</td>\n      <td>54834</td>\n      <td>1.013912</td>\n      <td>0.644652</td>\n    </tr>\n    <tr>\n      <td>0</td>\n      <td>atual e anterior</td>\n      <td>54834</td>\n      <td>1.006452</td>\n      <td>0.647267</td>\n    </tr>\n    <tr>\n      <td>0</td>\n      <td>atual, anterior e a diferença</td>\n      <td>54834</td>\n      <td>1.006452</td>\n      <td>0.647267</td>\n    </tr>\n    <tr>\n      <td>0</td>\n      <td>diferença</td>\n      <td>54834</td>\n      <td>2.840107</td>\n      <td>0.004621</td>\n    </tr>\n  </tbody>\n</table>\n</div>",
      "text/plain": "                        features      #       MSE     $R^2$\n0                          atual  54834  1.013912  0.644652\n0               atual e anterior  54834  1.006452  0.647267\n0  atual, anterior e a diferença  54834  1.006452  0.647267\n0                      diferença  54834  2.840107  0.004621"
     },
     "execution_count": 13,
     "metadata": {},
     "output_type": "execute_result"
    }
   ],
   "source": [
    "evaluatio_wo_past_class = run_all_regressions_without_past_class(run_evaluation).drop(columns=[\"fold\"])\n",
    "evaluatio_wo_past_class"
   ]
  },
  {
   "cell_type": "code",
   "execution_count": 14,
   "metadata": {},
   "outputs": [
    {
     "name": "stdout",
     "output_type": "stream",
     "text": "número de instâncias total: 54834\n"
    },
    {
     "data": {
      "text/html": "<div>\n<style scoped>\n    .dataframe tbody tr th:only-of-type {\n        vertical-align: middle;\n    }\n\n    .dataframe tbody tr th {\n        vertical-align: top;\n    }\n\n    .dataframe thead th {\n        text-align: right;\n    }\n</style>\n<table border=\"1\" class=\"dataframe\">\n  <thead>\n    <tr style=\"text-align: right;\">\n      <th></th>\n      <th>features</th>\n      <th>#</th>\n      <th>MSE</th>\n      <th>$R^2$</th>\n    </tr>\n  </thead>\n  <tbody>\n    <tr>\n      <td>0</td>\n      <td>atual</td>\n      <td>38400</td>\n      <td>1.056137</td>\n      <td>0.572643</td>\n    </tr>\n    <tr>\n      <td>0</td>\n      <td>atual e anterior</td>\n      <td>47063</td>\n      <td>1.022249</td>\n      <td>0.610559</td>\n    </tr>\n    <tr>\n      <td>0</td>\n      <td>atual, anterior e a diferença</td>\n      <td>47063</td>\n      <td>1.022247</td>\n      <td>0.610560</td>\n    </tr>\n    <tr>\n      <td>0</td>\n      <td>diferença</td>\n      <td>38192</td>\n      <td>2.311020</td>\n      <td>0.054841</td>\n    </tr>\n  </tbody>\n</table>\n</div>",
      "text/plain": "                        features      #       MSE     $R^2$\n0                          atual  38400  1.056137  0.572643\n0               atual e anterior  47063  1.022249  0.610559\n0  atual, anterior e a diferença  47063  1.022247  0.610560\n0                      diferença  38192  2.311020  0.054841"
     },
     "execution_count": 14,
     "metadata": {},
     "output_type": "execute_result"
    }
   ],
   "source": [
    "evaluatio_wo_class_wo_duplicates = run_all_regressions_without_past_class(run_evaluation_without_duplicates).drop(columns=[\"fold\"])\n",
    "evaluatio_wo_class_wo_duplicates"
   ]
  },
  {
   "cell_type": "code",
   "execution_count": 15,
   "metadata": {},
   "outputs": [
    {
     "name": "stdout",
     "output_type": "stream",
     "text": "número de instâncias total: 54834\n"
    },
    {
     "data": {
      "text/html": "<div>\n<style scoped>\n    .dataframe tbody tr th:only-of-type {\n        vertical-align: middle;\n    }\n\n    .dataframe tbody tr th {\n        vertical-align: top;\n    }\n\n    .dataframe thead th {\n        text-align: right;\n    }\n</style>\n<table border=\"1\" class=\"dataframe\">\n  <thead>\n    <tr style=\"text-align: right;\">\n      <th></th>\n      <th>features</th>\n      <th>fold</th>\n      <th>#</th>\n      <th>MSE</th>\n      <th>$R^2$</th>\n    </tr>\n  </thead>\n  <tbody>\n    <tr>\n      <td>0</td>\n      <td>atual</td>\n      <td>1</td>\n      <td>38400</td>\n      <td>1.330518</td>\n      <td>0.249636</td>\n    </tr>\n    <tr>\n      <td>1</td>\n      <td>atual</td>\n      <td>2</td>\n      <td>38400</td>\n      <td>1.169056</td>\n      <td>0.226622</td>\n    </tr>\n    <tr>\n      <td>2</td>\n      <td>atual</td>\n      <td>3</td>\n      <td>38400</td>\n      <td>1.114616</td>\n      <td>0.348039</td>\n    </tr>\n    <tr>\n      <td>3</td>\n      <td>atual</td>\n      <td>4</td>\n      <td>38400</td>\n      <td>1.305406</td>\n      <td>0.371025</td>\n    </tr>\n    <tr>\n      <td>4</td>\n      <td>atual</td>\n      <td>5</td>\n      <td>38400</td>\n      <td>0.947284</td>\n      <td>0.681357</td>\n    </tr>\n    <tr>\n      <td>5</td>\n      <td>atual</td>\n      <td>6</td>\n      <td>38400</td>\n      <td>1.021592</td>\n      <td>0.622827</td>\n    </tr>\n    <tr>\n      <td>6</td>\n      <td>atual</td>\n      <td>7</td>\n      <td>38400</td>\n      <td>1.052634</td>\n      <td>0.602399</td>\n    </tr>\n    <tr>\n      <td>7</td>\n      <td>atual</td>\n      <td>8</td>\n      <td>38400</td>\n      <td>1.065607</td>\n      <td>0.630432</td>\n    </tr>\n    <tr>\n      <td>8</td>\n      <td>atual</td>\n      <td>9</td>\n      <td>38400</td>\n      <td>0.970029</td>\n      <td>0.625177</td>\n    </tr>\n    <tr>\n      <td>9</td>\n      <td>atual</td>\n      <td>10</td>\n      <td>38400</td>\n      <td>1.016479</td>\n      <td>0.642234</td>\n    </tr>\n    <tr>\n      <td>0</td>\n      <td>atual e anterior</td>\n      <td>1</td>\n      <td>47063</td>\n      <td>1.272193</td>\n      <td>0.281138</td>\n    </tr>\n    <tr>\n      <td>1</td>\n      <td>atual e anterior</td>\n      <td>2</td>\n      <td>47063</td>\n      <td>1.181797</td>\n      <td>0.288191</td>\n    </tr>\n    <tr>\n      <td>2</td>\n      <td>atual e anterior</td>\n      <td>3</td>\n      <td>47063</td>\n      <td>1.134373</td>\n      <td>0.317585</td>\n    </tr>\n    <tr>\n      <td>3</td>\n      <td>atual e anterior</td>\n      <td>4</td>\n      <td>47063</td>\n      <td>1.283490</td>\n      <td>0.499502</td>\n    </tr>\n    <tr>\n      <td>4</td>\n      <td>atual e anterior</td>\n      <td>5</td>\n      <td>47063</td>\n      <td>0.983688</td>\n      <td>0.677547</td>\n    </tr>\n    <tr>\n      <td>5</td>\n      <td>atual e anterior</td>\n      <td>6</td>\n      <td>47063</td>\n      <td>1.036972</td>\n      <td>0.636066</td>\n    </tr>\n    <tr>\n      <td>6</td>\n      <td>atual e anterior</td>\n      <td>7</td>\n      <td>47063</td>\n      <td>1.031795</td>\n      <td>0.637406</td>\n    </tr>\n    <tr>\n      <td>7</td>\n      <td>atual e anterior</td>\n      <td>8</td>\n      <td>47063</td>\n      <td>1.020360</td>\n      <td>0.647345</td>\n    </tr>\n    <tr>\n      <td>8</td>\n      <td>atual e anterior</td>\n      <td>9</td>\n      <td>47063</td>\n      <td>0.902944</td>\n      <td>0.672983</td>\n    </tr>\n    <tr>\n      <td>9</td>\n      <td>atual e anterior</td>\n      <td>10</td>\n      <td>47063</td>\n      <td>1.085275</td>\n      <td>0.636955</td>\n    </tr>\n    <tr>\n      <td>0</td>\n      <td>atual, anterior e a diferença</td>\n      <td>1</td>\n      <td>47063</td>\n      <td>1.275061</td>\n      <td>0.279518</td>\n    </tr>\n    <tr>\n      <td>1</td>\n      <td>atual, anterior e a diferença</td>\n      <td>2</td>\n      <td>47063</td>\n      <td>1.181274</td>\n      <td>0.288506</td>\n    </tr>\n    <tr>\n      <td>2</td>\n      <td>atual, anterior e a diferença</td>\n      <td>3</td>\n      <td>47063</td>\n      <td>1.135335</td>\n      <td>0.317006</td>\n    </tr>\n    <tr>\n      <td>3</td>\n      <td>atual, anterior e a diferença</td>\n      <td>4</td>\n      <td>47063</td>\n      <td>1.285604</td>\n      <td>0.498678</td>\n    </tr>\n    <tr>\n      <td>4</td>\n      <td>atual, anterior e a diferença</td>\n      <td>5</td>\n      <td>47063</td>\n      <td>0.983688</td>\n      <td>0.677547</td>\n    </tr>\n    <tr>\n      <td>5</td>\n      <td>atual, anterior e a diferença</td>\n      <td>6</td>\n      <td>47063</td>\n      <td>1.036972</td>\n      <td>0.636066</td>\n    </tr>\n    <tr>\n      <td>6</td>\n      <td>atual, anterior e a diferença</td>\n      <td>7</td>\n      <td>47063</td>\n      <td>1.031564</td>\n      <td>0.637487</td>\n    </tr>\n    <tr>\n      <td>7</td>\n      <td>atual, anterior e a diferença</td>\n      <td>8</td>\n      <td>47063</td>\n      <td>1.020530</td>\n      <td>0.647286</td>\n    </tr>\n    <tr>\n      <td>8</td>\n      <td>atual, anterior e a diferença</td>\n      <td>9</td>\n      <td>47063</td>\n      <td>0.902974</td>\n      <td>0.672972</td>\n    </tr>\n    <tr>\n      <td>9</td>\n      <td>atual, anterior e a diferença</td>\n      <td>10</td>\n      <td>47063</td>\n      <td>1.085275</td>\n      <td>0.636955</td>\n    </tr>\n    <tr>\n      <td>0</td>\n      <td>diferença</td>\n      <td>1</td>\n      <td>38192</td>\n      <td>1.962130</td>\n      <td>-0.128471</td>\n    </tr>\n    <tr>\n      <td>1</td>\n      <td>diferença</td>\n      <td>2</td>\n      <td>38192</td>\n      <td>1.684906</td>\n      <td>-0.120827</td>\n    </tr>\n    <tr>\n      <td>2</td>\n      <td>diferença</td>\n      <td>3</td>\n      <td>38192</td>\n      <td>1.893999</td>\n      <td>-0.093011</td>\n    </tr>\n    <tr>\n      <td>3</td>\n      <td>diferença</td>\n      <td>4</td>\n      <td>38192</td>\n      <td>2.006087</td>\n      <td>-0.040319</td>\n    </tr>\n    <tr>\n      <td>4</td>\n      <td>diferença</td>\n      <td>5</td>\n      <td>38192</td>\n      <td>2.706464</td>\n      <td>0.097348</td>\n    </tr>\n    <tr>\n      <td>5</td>\n      <td>diferença</td>\n      <td>6</td>\n      <td>38192</td>\n      <td>2.516795</td>\n      <td>0.065804</td>\n    </tr>\n    <tr>\n      <td>6</td>\n      <td>diferença</td>\n      <td>7</td>\n      <td>38192</td>\n      <td>2.533227</td>\n      <td>0.034978</td>\n    </tr>\n    <tr>\n      <td>7</td>\n      <td>diferença</td>\n      <td>8</td>\n      <td>38192</td>\n      <td>2.745119</td>\n      <td>-0.000134</td>\n    </tr>\n    <tr>\n      <td>8</td>\n      <td>diferença</td>\n      <td>9</td>\n      <td>38192</td>\n      <td>2.533000</td>\n      <td>0.039986</td>\n    </tr>\n    <tr>\n      <td>9</td>\n      <td>diferença</td>\n      <td>10</td>\n      <td>38192</td>\n      <td>2.624632</td>\n      <td>0.059960</td>\n    </tr>\n  </tbody>\n</table>\n</div>",
      "text/plain": "                        features fold      #       MSE     $R^2$\n0                          atual    1  38400  1.330518  0.249636\n1                          atual    2  38400  1.169056  0.226622\n2                          atual    3  38400  1.114616  0.348039\n3                          atual    4  38400  1.305406  0.371025\n4                          atual    5  38400  0.947284  0.681357\n5                          atual    6  38400  1.021592  0.622827\n6                          atual    7  38400  1.052634  0.602399\n7                          atual    8  38400  1.065607  0.630432\n8                          atual    9  38400  0.970029  0.625177\n9                          atual   10  38400  1.016479  0.642234\n0               atual e anterior    1  47063  1.272193  0.281138\n1               atual e anterior    2  47063  1.181797  0.288191\n2               atual e anterior    3  47063  1.134373  0.317585\n3               atual e anterior    4  47063  1.283490  0.499502\n4               atual e anterior    5  47063  0.983688  0.677547\n5               atual e anterior    6  47063  1.036972  0.636066\n6               atual e anterior    7  47063  1.031795  0.637406\n7               atual e anterior    8  47063  1.020360  0.647345\n8               atual e anterior    9  47063  0.902944  0.672983\n9               atual e anterior   10  47063  1.085275  0.636955\n0  atual, anterior e a diferença    1  47063  1.275061  0.279518\n1  atual, anterior e a diferença    2  47063  1.181274  0.288506\n2  atual, anterior e a diferença    3  47063  1.135335  0.317006\n3  atual, anterior e a diferença    4  47063  1.285604  0.498678\n4  atual, anterior e a diferença    5  47063  0.983688  0.677547\n5  atual, anterior e a diferença    6  47063  1.036972  0.636066\n6  atual, anterior e a diferença    7  47063  1.031564  0.637487\n7  atual, anterior e a diferença    8  47063  1.020530  0.647286\n8  atual, anterior e a diferença    9  47063  0.902974  0.672972\n9  atual, anterior e a diferença   10  47063  1.085275  0.636955\n0                      diferença    1  38192  1.962130 -0.128471\n1                      diferença    2  38192  1.684906 -0.120827\n2                      diferença    3  38192  1.893999 -0.093011\n3                      diferença    4  38192  2.006087 -0.040319\n4                      diferença    5  38192  2.706464  0.097348\n5                      diferença    6  38192  2.516795  0.065804\n6                      diferença    7  38192  2.533227  0.034978\n7                      diferença    8  38192  2.745119 -0.000134\n8                      diferença    9  38192  2.533000  0.039986\n9                      diferença   10  38192  2.624632  0.059960"
     },
     "execution_count": 15,
     "metadata": {},
     "output_type": "execute_result"
    }
   ],
   "source": [
    "evaluatio_wo_past_class_wo_duplicates_cvk5 = run_all_regressions_without_past_class(run_evaluation_with_Kfolds_without_duplicates)\n",
    "evaluatio_wo_past_class_wo_duplicates_cvk5"
   ]
  },
  {
   "cell_type": "code",
   "execution_count": 16,
   "metadata": {},
   "outputs": [
    {
     "data": {
      "text/html": "<div>\n<style scoped>\n    .dataframe tbody tr th:only-of-type {\n        vertical-align: middle;\n    }\n\n    .dataframe tbody tr th {\n        vertical-align: top;\n    }\n\n    .dataframe thead th {\n        text-align: right;\n    }\n</style>\n<table border=\"1\" class=\"dataframe\">\n  <thead>\n    <tr style=\"text-align: right;\">\n      <th></th>\n      <th>features</th>\n      <th>#_x</th>\n      <th>MSE_x</th>\n      <th>$R^2$_x</th>\n      <th>#_y</th>\n      <th>MSE_y</th>\n      <th>$R^2$_y</th>\n    </tr>\n  </thead>\n  <tbody>\n    <tr>\n      <td>0</td>\n      <td>atual</td>\n      <td>54834</td>\n      <td>1.013912</td>\n      <td>0.644652</td>\n      <td>54834</td>\n      <td>0.076955</td>\n      <td>0.973029</td>\n    </tr>\n    <tr>\n      <td>1</td>\n      <td>atual e anterior</td>\n      <td>54834</td>\n      <td>1.006452</td>\n      <td>0.647267</td>\n      <td>54834</td>\n      <td>0.074269</td>\n      <td>0.973971</td>\n    </tr>\n    <tr>\n      <td>2</td>\n      <td>atual, anterior e a diferença</td>\n      <td>54834</td>\n      <td>1.006452</td>\n      <td>0.647267</td>\n      <td>54834</td>\n      <td>0.074264</td>\n      <td>0.973973</td>\n    </tr>\n    <tr>\n      <td>3</td>\n      <td>diferença</td>\n      <td>54834</td>\n      <td>2.840107</td>\n      <td>0.004621</td>\n      <td>54834</td>\n      <td>0.076483</td>\n      <td>0.973195</td>\n    </tr>\n  </tbody>\n</table>\n</div>",
      "text/plain": "                        features    #_x     MSE_x   $R^2$_x    #_y     MSE_y  \\\n0                          atual  54834  1.013912  0.644652  54834  0.076955   \n1               atual e anterior  54834  1.006452  0.647267  54834  0.074269   \n2  atual, anterior e a diferença  54834  1.006452  0.647267  54834  0.074264   \n3                      diferença  54834  2.840107  0.004621  54834  0.076483   \n\n    $R^2$_y  \n0  0.973029  \n1  0.973971  \n2  0.973973  \n3  0.973195  "
     },
     "execution_count": 16,
     "metadata": {},
     "output_type": "execute_result"
    }
   ],
   "source": [
    "evaluatio_wo_past_class.merge(evaluatio_past_class, left_on='features', right_on='features')"
   ]
  },
  {
   "cell_type": "code",
   "execution_count": 17,
   "metadata": {},
   "outputs": [
    {
     "data": {
      "text/html": "<div>\n<style scoped>\n    .dataframe tbody tr th:only-of-type {\n        vertical-align: middle;\n    }\n\n    .dataframe tbody tr th {\n        vertical-align: top;\n    }\n\n    .dataframe thead th {\n        text-align: right;\n    }\n</style>\n<table border=\"1\" class=\"dataframe\">\n  <thead>\n    <tr style=\"text-align: right;\">\n      <th></th>\n      <th>features</th>\n      <th>#_x</th>\n      <th>MSE_x</th>\n      <th>$R^2$_x</th>\n      <th>#_y</th>\n      <th>MSE_y</th>\n      <th>$R^2$_y</th>\n    </tr>\n  </thead>\n  <tbody>\n    <tr>\n      <td>0</td>\n      <td>atual</td>\n      <td>38400</td>\n      <td>1.056137</td>\n      <td>0.572643</td>\n      <td>38592</td>\n      <td>0.089481</td>\n      <td>0.963670</td>\n    </tr>\n    <tr>\n      <td>1</td>\n      <td>atual e anterior</td>\n      <td>47063</td>\n      <td>1.022249</td>\n      <td>0.610559</td>\n      <td>47063</td>\n      <td>0.072858</td>\n      <td>0.972244</td>\n    </tr>\n    <tr>\n      <td>2</td>\n      <td>atual, anterior e a diferença</td>\n      <td>47063</td>\n      <td>1.022247</td>\n      <td>0.610560</td>\n      <td>47063</td>\n      <td>0.072858</td>\n      <td>0.972244</td>\n    </tr>\n    <tr>\n      <td>3</td>\n      <td>diferença</td>\n      <td>38192</td>\n      <td>2.311020</td>\n      <td>0.054841</td>\n      <td>38234</td>\n      <td>0.108685</td>\n      <td>0.955649</td>\n    </tr>\n  </tbody>\n</table>\n</div>",
      "text/plain": "                        features    #_x     MSE_x   $R^2$_x    #_y     MSE_y  \\\n0                          atual  38400  1.056137  0.572643  38592  0.089481   \n1               atual e anterior  47063  1.022249  0.610559  47063  0.072858   \n2  atual, anterior e a diferença  47063  1.022247  0.610560  47063  0.072858   \n3                      diferença  38192  2.311020  0.054841  38234  0.108685   \n\n    $R^2$_y  \n0  0.963670  \n1  0.972244  \n2  0.972244  \n3  0.955649  "
     },
     "execution_count": 17,
     "metadata": {},
     "output_type": "execute_result"
    }
   ],
   "source": [
    "evaluatio_wo_class_wo_duplicates.merge(evaluatio_past_class_wo_duplicates, left_on='features', right_on='features')"
   ]
  },
  {
   "cell_type": "code",
   "execution_count": 18,
   "metadata": {},
   "outputs": [
    {
     "data": {
      "text/html": "<div>\n<style scoped>\n    .dataframe tbody tr th:only-of-type {\n        vertical-align: middle;\n    }\n\n    .dataframe tbody tr th {\n        vertical-align: top;\n    }\n\n    .dataframe thead th {\n        text-align: right;\n    }\n</style>\n<table border=\"1\" class=\"dataframe\">\n  <thead>\n    <tr style=\"text-align: right;\">\n      <th></th>\n      <th>#_x</th>\n      <th>MSE_x</th>\n      <th>$R^2$_x</th>\n      <th>#_y</th>\n      <th>MSE_y</th>\n      <th>$R^2$_y</th>\n    </tr>\n    <tr>\n      <th>features</th>\n      <th></th>\n      <th></th>\n      <th></th>\n      <th></th>\n      <th></th>\n      <th></th>\n    </tr>\n  </thead>\n  <tbody>\n    <tr>\n      <td>atual</td>\n      <td>38400</td>\n      <td>1.099322</td>\n      <td>0.499975</td>\n      <td>38592</td>\n      <td>0.100250</td>\n      <td>0.942973</td>\n    </tr>\n    <tr>\n      <td>atual e anterior</td>\n      <td>47063</td>\n      <td>1.093289</td>\n      <td>0.529472</td>\n      <td>47063</td>\n      <td>0.080204</td>\n      <td>0.956176</td>\n    </tr>\n    <tr>\n      <td>atual, anterior e a diferença</td>\n      <td>47063</td>\n      <td>1.093828</td>\n      <td>0.529202</td>\n      <td>47063</td>\n      <td>0.080274</td>\n      <td>0.956150</td>\n    </tr>\n    <tr>\n      <td>diferença</td>\n      <td>38192</td>\n      <td>2.320636</td>\n      <td>-0.008469</td>\n      <td>38234</td>\n      <td>0.100551</td>\n      <td>0.941857</td>\n    </tr>\n  </tbody>\n</table>\n</div>",
      "text/plain": "                                 #_x     MSE_x   $R^2$_x    #_y     MSE_y  \\\nfeatures                                                                    \natual                          38400  1.099322  0.499975  38592  0.100250   \natual e anterior               47063  1.093289  0.529472  47063  0.080204   \natual, anterior e a diferença  47063  1.093828  0.529202  47063  0.080274   \ndiferença                      38192  2.320636 -0.008469  38234  0.100551   \n\n                                $R^2$_y  \nfeatures                                 \natual                          0.942973  \natual e anterior               0.956176  \natual, anterior e a diferença  0.956150  \ndiferença                      0.941857  "
     },
     "execution_count": 18,
     "metadata": {},
     "output_type": "execute_result"
    }
   ],
   "source": [
    "cvk5 = evaluatio_wo_past_class_wo_duplicates_cvk5.merge(evaluatio_past_class_wo_duplicates_cvk5, left_on=['features','fold'], right_on=['features','fold'])\n",
    "cvk5['#_x'] = cvk5['#_x'].astype('int') \n",
    "cvk5['#_y'] = cvk5['#_y'].astype('int') \n",
    "cvk5.groupby('features').mean()\n",
    "#pd.merge(evaluatio_past_class_wo_duplicates_cvk5, evaluatio_wo_past_class_wo_duplicates_cvk5, on=['features', 'fold'])"
   ]
  },
  {
   "cell_type": "code",
   "execution_count": 19,
   "metadata": {},
   "outputs": [
    {
     "name": "stdout",
     "output_type": "stream",
     "text": "x1 = c(1.3305177037194071, 1.1690564119163591, 1.114616061883867, 1.3054061845311862, 0.9472838034867953, 1.021591508626753, 1.052634202809754, 1.0656068150331433, 0.970029032412126, 1.016478539443852, 1.2721931323879212, 1.181796817844923, 1.1343726000778847, 1.283490428849286, 0.9836875042367854, 1.0369718294757249, 1.0317947983501004, 1.0203596366283363, 0.9029444753732814, 1.0852748905057643, 1.275060775118802, 1.1812739664932812, 1.1353348428662642, 1.285604466407252, 0.9836875042373532, 1.0369718294769803, 1.0315639867093367, 1.0205304832532582, 0.9029742596582351, 1.0852748905057918, 1.9621299922576183, 1.684905884553386, 1.8939985531947923, 2.0060865224561675, 2.706464057610556, 2.516794892353221, 2.5332272007641916, 2.7451189933708466, 2.533000163428874, 2.6246321632097636)\nx1 = c(0.26209483264878863, 0.25697237909758686, 0.23312320227836741, 0.20790225270896454, 0.006510796407432374, 0.006949155294636323, 0.007682180565258078, 0.0076159122525771596, 0.006675249835870024, 0.006977267070166034, 0.2170219284555904, 0.22148424219878854, 0.19843184899803198, 0.1302551244905304, 0.005525556650664141, 0.005870002755814226, 0.005743836603356693, 0.005468010174455919, 0.006095684115719145, 0.006139416189757107, 0.21702192845541074, 0.2214891289902279, 0.1984318489979497, 0.13067414875136865, 0.005523949377562121, 0.006148338151106493, 0.005743836603397225, 0.00547105570409491, 0.0060956841156783684, 0.006139416189771648, 0.2533105963209248, 0.24791584423902704, 0.23864449032492274, 0.23264464357169629, 0.004931165082968955, 0.004751806676183686, 0.005751913842063448, 0.005604010183603051, 0.006366889814761915, 0.00558846270423444)\n"
    }
   ],
   "source": [
    "def r_list(list):\n",
    "    return f\"x1 = c({list})\".replace('[','').replace(']','')\n",
    "    \n",
    "def print_r(list):\n",
    "    print(r_list(list))\n",
    "    \n",
    "\n",
    "a = list(cvk5['MSE_x'])\n",
    "b = list(cvk5['MSE_y'])\n",
    "print_r(a)\n",
    "print_r(b)"
   ]
  },
  {
   "cell_type": "code",
   "execution_count": 20,
   "metadata": {},
   "outputs": [
    {
     "name": "stdout",
     "output_type": "stream",
     "text": "x1 = c(1.4892150608435115, 1.4032810600437116, 1.3328044490759166, 1.4137455533398164, 0.9892130608874495, 1.0428418322315391, 1.037538634953457, 1.0258276468027923, 0.9090401594890005, 1.0914143066955213)\nx1 = c(1.4920827035742126, 1.402763095483509, 1.333766691864214, 1.4162786151586206, 0.9892114536149152, 1.0431201676280868, 1.037307823312734, 1.0260015389573531, 0.9090699437739135, 1.0914143066955635)\n"
    }
   ],
   "source": [
    "cvk5_1 = cvk5[cvk5['features'] == 'atual e anterior']\n",
    "cvk5_2 = cvk5[cvk5['features'] == 'atual, anterior e a diferença']\n",
    "a = list(cvk5_1['MSE_x']+cvk5_1['MSE_y'])\n",
    "b = list(cvk5_2['MSE_x']+cvk5_2['MSE_y'])\n",
    "print_r(a)\n",
    "print_r(b)\n"
   ]
  },
  {
   "cell_type": "code",
   "execution_count": 21,
   "metadata": {},
   "outputs": [
    {
     "data": {
      "text/plain": "Ttest_relResult(statistic=8.434834382206255, pvalue=7.356307816466631e-07)"
     },
     "execution_count": 21,
     "metadata": {},
     "output_type": "execute_result"
    }
   ],
   "source": [
    "from scipy import stats\n",
    "x1 = [1.279320, 1.228306, 1.008683, 1.033870, 0.991782, 1.279320, 1.229792, 1.008683, 1.034242, 0.991634, 1.875927, 1.991474, 2.625568, 2.683716, 2.586487]\n",
    "x2 = [0.225783, 0.165626, 0.006604, 0.006635, 0.006966, 0.225783, 0.165626, 0.006604, 0.006676, 0.006966, 0.253829, 0.237799, 0.005805, 0.006829, 0.007014]\n",
    "\n",
    "stats.ttest_rel(x1,x2)"
   ]
  },
  {
   "cell_type": "code",
   "execution_count": 22,
   "metadata": {},
   "outputs": [
    {
     "data": {
      "text/html": "<div>\n<style scoped>\n    .dataframe tbody tr th:only-of-type {\n        vertical-align: middle;\n    }\n\n    .dataframe tbody tr th {\n        vertical-align: top;\n    }\n\n    .dataframe thead th {\n        text-align: right;\n    }\n</style>\n<table border=\"1\" class=\"dataframe\">\n  <thead>\n    <tr style=\"text-align: right;\">\n      <th></th>\n      <th>features</th>\n      <th>fold</th>\n      <th>#_x</th>\n      <th>MSE_x</th>\n      <th>$R^2$_x</th>\n      <th>#_y</th>\n      <th>MSE_y</th>\n      <th>$R^2$_y</th>\n    </tr>\n  </thead>\n  <tbody>\n    <tr>\n      <td>0</td>\n      <td>atual</td>\n      <td>1</td>\n      <td>38400</td>\n      <td>1.330518</td>\n      <td>0.249636</td>\n      <td>38592</td>\n      <td>0.262095</td>\n      <td>0.853502</td>\n    </tr>\n    <tr>\n      <td>1</td>\n      <td>atual</td>\n      <td>2</td>\n      <td>38400</td>\n      <td>1.169056</td>\n      <td>0.226622</td>\n      <td>38592</td>\n      <td>0.256972</td>\n      <td>0.832344</td>\n    </tr>\n    <tr>\n      <td>2</td>\n      <td>atual</td>\n      <td>3</td>\n      <td>38400</td>\n      <td>1.114616</td>\n      <td>0.348039</td>\n      <td>38592</td>\n      <td>0.233123</td>\n      <td>0.861215</td>\n    </tr>\n    <tr>\n      <td>3</td>\n      <td>atual</td>\n      <td>4</td>\n      <td>38400</td>\n      <td>1.305406</td>\n      <td>0.371025</td>\n      <td>38592</td>\n      <td>0.207902</td>\n      <td>0.897965</td>\n    </tr>\n    <tr>\n      <td>4</td>\n      <td>atual</td>\n      <td>5</td>\n      <td>38400</td>\n      <td>0.947284</td>\n      <td>0.681357</td>\n      <td>38592</td>\n      <td>0.006511</td>\n      <td>0.997849</td>\n    </tr>\n    <tr>\n      <td>5</td>\n      <td>atual</td>\n      <td>6</td>\n      <td>38400</td>\n      <td>1.021592</td>\n      <td>0.622827</td>\n      <td>38592</td>\n      <td>0.006949</td>\n      <td>0.997394</td>\n    </tr>\n    <tr>\n      <td>6</td>\n      <td>atual</td>\n      <td>7</td>\n      <td>38400</td>\n      <td>1.052634</td>\n      <td>0.602399</td>\n      <td>38592</td>\n      <td>0.007682</td>\n      <td>0.997165</td>\n    </tr>\n    <tr>\n      <td>7</td>\n      <td>atual</td>\n      <td>8</td>\n      <td>38400</td>\n      <td>1.065607</td>\n      <td>0.630432</td>\n      <td>38592</td>\n      <td>0.007616</td>\n      <td>0.997312</td>\n    </tr>\n    <tr>\n      <td>8</td>\n      <td>atual</td>\n      <td>9</td>\n      <td>38400</td>\n      <td>0.970029</td>\n      <td>0.625177</td>\n      <td>38592</td>\n      <td>0.006675</td>\n      <td>0.997446</td>\n    </tr>\n    <tr>\n      <td>9</td>\n      <td>atual</td>\n      <td>10</td>\n      <td>38400</td>\n      <td>1.016479</td>\n      <td>0.642234</td>\n      <td>38592</td>\n      <td>0.006977</td>\n      <td>0.997534</td>\n    </tr>\n    <tr>\n      <td>10</td>\n      <td>atual e anterior</td>\n      <td>1</td>\n      <td>47063</td>\n      <td>1.272193</td>\n      <td>0.281138</td>\n      <td>47063</td>\n      <td>0.217022</td>\n      <td>0.877370</td>\n    </tr>\n    <tr>\n      <td>11</td>\n      <td>atual e anterior</td>\n      <td>2</td>\n      <td>47063</td>\n      <td>1.181797</td>\n      <td>0.288191</td>\n      <td>47063</td>\n      <td>0.221484</td>\n      <td>0.866598</td>\n    </tr>\n    <tr>\n      <td>12</td>\n      <td>atual e anterior</td>\n      <td>3</td>\n      <td>47063</td>\n      <td>1.134373</td>\n      <td>0.317585</td>\n      <td>47063</td>\n      <td>0.198432</td>\n      <td>0.880628</td>\n    </tr>\n    <tr>\n      <td>13</td>\n      <td>atual e anterior</td>\n      <td>4</td>\n      <td>47063</td>\n      <td>1.283490</td>\n      <td>0.499502</td>\n      <td>47063</td>\n      <td>0.130255</td>\n      <td>0.949207</td>\n    </tr>\n    <tr>\n      <td>14</td>\n      <td>atual e anterior</td>\n      <td>5</td>\n      <td>47063</td>\n      <td>0.983688</td>\n      <td>0.677547</td>\n      <td>47063</td>\n      <td>0.005526</td>\n      <td>0.998189</td>\n    </tr>\n    <tr>\n      <td>15</td>\n      <td>atual e anterior</td>\n      <td>6</td>\n      <td>47063</td>\n      <td>1.036972</td>\n      <td>0.636066</td>\n      <td>47063</td>\n      <td>0.005870</td>\n      <td>0.997940</td>\n    </tr>\n    <tr>\n      <td>16</td>\n      <td>atual e anterior</td>\n      <td>7</td>\n      <td>47063</td>\n      <td>1.031795</td>\n      <td>0.637406</td>\n      <td>47063</td>\n      <td>0.005744</td>\n      <td>0.997981</td>\n    </tr>\n    <tr>\n      <td>17</td>\n      <td>atual e anterior</td>\n      <td>8</td>\n      <td>47063</td>\n      <td>1.020360</td>\n      <td>0.647345</td>\n      <td>47063</td>\n      <td>0.005468</td>\n      <td>0.998110</td>\n    </tr>\n    <tr>\n      <td>18</td>\n      <td>atual e anterior</td>\n      <td>9</td>\n      <td>47063</td>\n      <td>0.902944</td>\n      <td>0.672983</td>\n      <td>47063</td>\n      <td>0.006096</td>\n      <td>0.997792</td>\n    </tr>\n    <tr>\n      <td>19</td>\n      <td>atual e anterior</td>\n      <td>10</td>\n      <td>47063</td>\n      <td>1.085275</td>\n      <td>0.636955</td>\n      <td>47063</td>\n      <td>0.006139</td>\n      <td>0.997946</td>\n    </tr>\n    <tr>\n      <td>20</td>\n      <td>atual, anterior e a diferença</td>\n      <td>1</td>\n      <td>47063</td>\n      <td>1.275061</td>\n      <td>0.279518</td>\n      <td>47063</td>\n      <td>0.217022</td>\n      <td>0.877370</td>\n    </tr>\n    <tr>\n      <td>21</td>\n      <td>atual, anterior e a diferença</td>\n      <td>2</td>\n      <td>47063</td>\n      <td>1.181274</td>\n      <td>0.288506</td>\n      <td>47063</td>\n      <td>0.221489</td>\n      <td>0.866595</td>\n    </tr>\n    <tr>\n      <td>22</td>\n      <td>atual, anterior e a diferença</td>\n      <td>3</td>\n      <td>47063</td>\n      <td>1.135335</td>\n      <td>0.317006</td>\n      <td>47063</td>\n      <td>0.198432</td>\n      <td>0.880628</td>\n    </tr>\n    <tr>\n      <td>23</td>\n      <td>atual, anterior e a diferença</td>\n      <td>4</td>\n      <td>47063</td>\n      <td>1.285604</td>\n      <td>0.498678</td>\n      <td>47063</td>\n      <td>0.130674</td>\n      <td>0.949044</td>\n    </tr>\n    <tr>\n      <td>24</td>\n      <td>atual, anterior e a diferença</td>\n      <td>5</td>\n      <td>47063</td>\n      <td>0.983688</td>\n      <td>0.677547</td>\n      <td>47063</td>\n      <td>0.005524</td>\n      <td>0.998189</td>\n    </tr>\n    <tr>\n      <td>25</td>\n      <td>atual, anterior e a diferença</td>\n      <td>6</td>\n      <td>47063</td>\n      <td>1.036972</td>\n      <td>0.636066</td>\n      <td>47063</td>\n      <td>0.006148</td>\n      <td>0.997842</td>\n    </tr>\n    <tr>\n      <td>26</td>\n      <td>atual, anterior e a diferença</td>\n      <td>7</td>\n      <td>47063</td>\n      <td>1.031564</td>\n      <td>0.637487</td>\n      <td>47063</td>\n      <td>0.005744</td>\n      <td>0.997981</td>\n    </tr>\n    <tr>\n      <td>27</td>\n      <td>atual, anterior e a diferença</td>\n      <td>8</td>\n      <td>47063</td>\n      <td>1.020530</td>\n      <td>0.647286</td>\n      <td>47063</td>\n      <td>0.005471</td>\n      <td>0.998109</td>\n    </tr>\n    <tr>\n      <td>28</td>\n      <td>atual, anterior e a diferença</td>\n      <td>9</td>\n      <td>47063</td>\n      <td>0.902974</td>\n      <td>0.672972</td>\n      <td>47063</td>\n      <td>0.006096</td>\n      <td>0.997792</td>\n    </tr>\n    <tr>\n      <td>29</td>\n      <td>atual, anterior e a diferença</td>\n      <td>10</td>\n      <td>47063</td>\n      <td>1.085275</td>\n      <td>0.636955</td>\n      <td>47063</td>\n      <td>0.006139</td>\n      <td>0.997946</td>\n    </tr>\n    <tr>\n      <td>30</td>\n      <td>diferença</td>\n      <td>1</td>\n      <td>38192</td>\n      <td>1.962130</td>\n      <td>-0.128471</td>\n      <td>38234</td>\n      <td>0.253311</td>\n      <td>0.854429</td>\n    </tr>\n    <tr>\n      <td>31</td>\n      <td>diferença</td>\n      <td>2</td>\n      <td>38192</td>\n      <td>1.684906</td>\n      <td>-0.120827</td>\n      <td>38234</td>\n      <td>0.247916</td>\n      <td>0.835347</td>\n    </tr>\n    <tr>\n      <td>32</td>\n      <td>diferença</td>\n      <td>3</td>\n      <td>38192</td>\n      <td>1.893999</td>\n      <td>-0.093011</td>\n      <td>38234</td>\n      <td>0.238644</td>\n      <td>0.862357</td>\n    </tr>\n    <tr>\n      <td>33</td>\n      <td>diferença</td>\n      <td>4</td>\n      <td>38192</td>\n      <td>2.006087</td>\n      <td>-0.040319</td>\n      <td>38234</td>\n      <td>0.232645</td>\n      <td>0.878496</td>\n    </tr>\n    <tr>\n      <td>34</td>\n      <td>diferença</td>\n      <td>5</td>\n      <td>38192</td>\n      <td>2.706464</td>\n      <td>0.097348</td>\n      <td>38234</td>\n      <td>0.004931</td>\n      <td>0.998355</td>\n    </tr>\n    <tr>\n      <td>35</td>\n      <td>diferença</td>\n      <td>6</td>\n      <td>38192</td>\n      <td>2.516795</td>\n      <td>0.065804</td>\n      <td>38234</td>\n      <td>0.004752</td>\n      <td>0.998238</td>\n    </tr>\n    <tr>\n      <td>36</td>\n      <td>diferença</td>\n      <td>7</td>\n      <td>38192</td>\n      <td>2.533227</td>\n      <td>0.034978</td>\n      <td>38234</td>\n      <td>0.005752</td>\n      <td>0.997812</td>\n    </tr>\n    <tr>\n      <td>37</td>\n      <td>diferença</td>\n      <td>8</td>\n      <td>38192</td>\n      <td>2.745119</td>\n      <td>-0.000134</td>\n      <td>38234</td>\n      <td>0.005604</td>\n      <td>0.997950</td>\n    </tr>\n    <tr>\n      <td>38</td>\n      <td>diferença</td>\n      <td>9</td>\n      <td>38192</td>\n      <td>2.533000</td>\n      <td>0.039986</td>\n      <td>38234</td>\n      <td>0.006367</td>\n      <td>0.997592</td>\n    </tr>\n    <tr>\n      <td>39</td>\n      <td>diferença</td>\n      <td>10</td>\n      <td>38192</td>\n      <td>2.624632</td>\n      <td>0.059960</td>\n      <td>38234</td>\n      <td>0.005588</td>\n      <td>0.997997</td>\n    </tr>\n  </tbody>\n</table>\n</div>",
      "text/plain": "                         features fold    #_x     MSE_x   $R^2$_x    #_y  \\\n0                           atual    1  38400  1.330518  0.249636  38592   \n1                           atual    2  38400  1.169056  0.226622  38592   \n2                           atual    3  38400  1.114616  0.348039  38592   \n3                           atual    4  38400  1.305406  0.371025  38592   \n4                           atual    5  38400  0.947284  0.681357  38592   \n5                           atual    6  38400  1.021592  0.622827  38592   \n6                           atual    7  38400  1.052634  0.602399  38592   \n7                           atual    8  38400  1.065607  0.630432  38592   \n8                           atual    9  38400  0.970029  0.625177  38592   \n9                           atual   10  38400  1.016479  0.642234  38592   \n10               atual e anterior    1  47063  1.272193  0.281138  47063   \n11               atual e anterior    2  47063  1.181797  0.288191  47063   \n12               atual e anterior    3  47063  1.134373  0.317585  47063   \n13               atual e anterior    4  47063  1.283490  0.499502  47063   \n14               atual e anterior    5  47063  0.983688  0.677547  47063   \n15               atual e anterior    6  47063  1.036972  0.636066  47063   \n16               atual e anterior    7  47063  1.031795  0.637406  47063   \n17               atual e anterior    8  47063  1.020360  0.647345  47063   \n18               atual e anterior    9  47063  0.902944  0.672983  47063   \n19               atual e anterior   10  47063  1.085275  0.636955  47063   \n20  atual, anterior e a diferença    1  47063  1.275061  0.279518  47063   \n21  atual, anterior e a diferença    2  47063  1.181274  0.288506  47063   \n22  atual, anterior e a diferença    3  47063  1.135335  0.317006  47063   \n23  atual, anterior e a diferença    4  47063  1.285604  0.498678  47063   \n24  atual, anterior e a diferença    5  47063  0.983688  0.677547  47063   \n25  atual, anterior e a diferença    6  47063  1.036972  0.636066  47063   \n26  atual, anterior e a diferença    7  47063  1.031564  0.637487  47063   \n27  atual, anterior e a diferença    8  47063  1.020530  0.647286  47063   \n28  atual, anterior e a diferença    9  47063  0.902974  0.672972  47063   \n29  atual, anterior e a diferença   10  47063  1.085275  0.636955  47063   \n30                      diferença    1  38192  1.962130 -0.128471  38234   \n31                      diferença    2  38192  1.684906 -0.120827  38234   \n32                      diferença    3  38192  1.893999 -0.093011  38234   \n33                      diferença    4  38192  2.006087 -0.040319  38234   \n34                      diferença    5  38192  2.706464  0.097348  38234   \n35                      diferença    6  38192  2.516795  0.065804  38234   \n36                      diferença    7  38192  2.533227  0.034978  38234   \n37                      diferença    8  38192  2.745119 -0.000134  38234   \n38                      diferença    9  38192  2.533000  0.039986  38234   \n39                      diferença   10  38192  2.624632  0.059960  38234   \n\n       MSE_y   $R^2$_y  \n0   0.262095  0.853502  \n1   0.256972  0.832344  \n2   0.233123  0.861215  \n3   0.207902  0.897965  \n4   0.006511  0.997849  \n5   0.006949  0.997394  \n6   0.007682  0.997165  \n7   0.007616  0.997312  \n8   0.006675  0.997446  \n9   0.006977  0.997534  \n10  0.217022  0.877370  \n11  0.221484  0.866598  \n12  0.198432  0.880628  \n13  0.130255  0.949207  \n14  0.005526  0.998189  \n15  0.005870  0.997940  \n16  0.005744  0.997981  \n17  0.005468  0.998110  \n18  0.006096  0.997792  \n19  0.006139  0.997946  \n20  0.217022  0.877370  \n21  0.221489  0.866595  \n22  0.198432  0.880628  \n23  0.130674  0.949044  \n24  0.005524  0.998189  \n25  0.006148  0.997842  \n26  0.005744  0.997981  \n27  0.005471  0.998109  \n28  0.006096  0.997792  \n29  0.006139  0.997946  \n30  0.253311  0.854429  \n31  0.247916  0.835347  \n32  0.238644  0.862357  \n33  0.232645  0.878496  \n34  0.004931  0.998355  \n35  0.004752  0.998238  \n36  0.005752  0.997812  \n37  0.005604  0.997950  \n38  0.006367  0.997592  \n39  0.005588  0.997997  "
     },
     "execution_count": 22,
     "metadata": {},
     "output_type": "execute_result"
    }
   ],
   "source": [
    "cvk5"
   ]
  }
 ],
 "metadata": {
  "file_extension": ".py",
  "kernelspec": {
   "display_name": "Python 3",
   "language": "python",
   "name": "python3"
  },
  "language_info": {
   "codemirror_mode": {
    "name": "ipython",
    "version": 3
   },
   "file_extension": ".py",
   "mimetype": "text/x-python",
   "name": "python",
   "nbconvert_exporter": "python",
   "pygments_lexer": "ipython3",
   "version": "3.7.4"
  },
  "mimetype": "text/x-python",
  "name": "python",
  "npconvert_exporter": "python",
  "pygments_lexer": "ipython3",
  "version": 3
 },
 "nbformat": 4,
 "nbformat_minor": 2
}