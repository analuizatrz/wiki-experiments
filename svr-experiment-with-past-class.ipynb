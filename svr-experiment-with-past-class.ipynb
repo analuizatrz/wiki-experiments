{
 "cells": [
  {
   "cell_type": "code",
   "execution_count": 1,
   "metadata": {},
   "outputs": [],
   "source": [
    "import pandas as pd\n",
    "from utils import read_dataset\n",
    "\n",
    "dataset = read_dataset()"
   ]
  },
  {
   "cell_type": "code",
   "execution_count": 2,
   "metadata": {},
   "outputs": [],
   "source": [
    "from utils import read_dataset_metadata\n",
    "\n",
    "target_column, feature_columns, feature_columns_with_delta, feature_columns_only_delta = read_dataset_metadata()"
   ]
  },
  {
   "cell_type": "code",
   "execution_count": 3,
   "metadata": {},
   "outputs": [],
   "source": [
    "from sklearn import svm, datasets\n",
    "from sklearn.model_selection import GridSearchCV\n",
    "from sklearn.model_selection import train_test_split\n",
    "from sklearn.metrics import classification_report, confusion_matrix\n",
    "from utils import get_X_y, get_X_y_without_duplicates\n",
    "from datetime import datetime\n",
    "\n",
    "X_1, y_1 = get_X_y(dataset, feature_columns, target_column)\n",
    "X_2, y_2 = get_X_y(dataset, feature_columns_with_delta, target_column)\n",
    "X_3, y_3 = get_X_y(dataset, feature_columns_only_delta, target_column)\n",
    "\n",
    "def train_(X, y):\n",
    "    begin = datetime.now()\n",
    "    print(begin)\n",
    "\n",
    "    X_train, X_test, y_train, y_test = train_test_split(X, y, test_size=0.2, random_state=0)\n",
    "\n",
    "    parameters = {'kernel':['rbf'], 'C':[1, 10, 100, 1000]}\n",
    "    svc = svm.SVR(gamma=\"scale\")\n",
    "    clf = GridSearchCV(svc, parameters, cv=5)\n",
    "\n",
    "    clf.fit(X_train, y_train)\n",
    "    end = datetime.now()\n",
    "    print(end)\n",
    "    \n",
    "    return begin, end, clf, X_train, X_test, y_train, y_test"
   ]
  },
  {
   "cell_type": "code",
   "execution_count": 4,
   "metadata": {},
   "outputs": [
    {
     "name": "stdout",
     "output_type": "stream",
     "text": [
      "2019-10-22 22:20:14.677150\n",
      "2019-10-23 00:53:26.742309\n"
     ]
    },
    {
     "data": {
      "text/plain": [
       "{'C': 1000, 'kernel': 'rbf'}"
      ]
     },
     "execution_count": 4,
     "metadata": {},
     "output_type": "execute_result"
    }
   ],
   "source": [
    "begin_1, end_1, clf_1, X_train_1, X_test_1, y_train_1, y_test_1 = train_(X_1, y_1)\n",
    "clf_1.best_params_"
   ]
  },
  {
   "cell_type": "code",
   "execution_count": 5,
   "metadata": {},
   "outputs": [
    {
     "name": "stdout",
     "output_type": "stream",
     "text": [
      "2019-10-23 00:53:26.786229\n",
      "2019-10-23 04:20:30.158814\n"
     ]
    },
    {
     "data": {
      "text/plain": [
       "{'C': 1000, 'kernel': 'rbf'}"
      ]
     },
     "execution_count": 5,
     "metadata": {},
     "output_type": "execute_result"
    }
   ],
   "source": [
    "begin_2, end_2, clf_2, X_train_2, X_test_2, y_train_2, y_test_2 = train_(X_2, y_2)\n",
    "clf_2.best_params_"
   ]
  },
  {
   "cell_type": "code",
   "execution_count": 6,
   "metadata": {},
   "outputs": [
    {
     "name": "stdout",
     "output_type": "stream",
     "text": [
      "2019-10-23 04:20:30.164433\n",
      "2019-10-23 05:51:49.339010\n"
     ]
    },
    {
     "data": {
      "text/plain": [
       "{'C': 100, 'kernel': 'rbf'}"
      ]
     },
     "execution_count": 6,
     "metadata": {},
     "output_type": "execute_result"
    }
   ],
   "source": [
    "begin_3, end_3, clf_3, X_train_3, X_test_3, y_train_3, y_test_3 = train_(X_3, y_3)\n",
    "clf_3.best_params_"
   ]
  },
  {
   "cell_type": "code",
   "execution_count": 7,
   "metadata": {},
   "outputs": [],
   "source": [
    "#begin = datetime.now()\n",
    "#print(begin)\n",
    "##result = SVC(kernel='rbf', C=1, gamma='auto').fit(X_train, y_train)\n",
    "#end = datetime.now()\n",
    "#print(end)"
   ]
  },
  {
   "cell_type": "code",
   "execution_count": 8,
   "metadata": {},
   "outputs": [
    {
     "data": {
      "text/plain": [
       "['models/svr-gridsearch-cv-k5-featurecolumnsonlydelta.joblib']"
      ]
     },
     "execution_count": 8,
     "metadata": {},
     "output_type": "execute_result"
    }
   ],
   "source": [
    "from joblib import dump\n",
    "\n",
    "dump(clf_1, \"models/svr-gridsearch-cv-k5-featurecolumns.joblib\")\n",
    "dump(clf_2, \"models/svr-gridsearch-cv-k5-featurecolumnswithdelta.joblib\")\n",
    "dump(clf_3, \"models/svr-gridsearch-cv-k5-featurecolumnsonlydelta.joblib\")"
   ]
  },
  {
   "cell_type": "code",
   "execution_count": 9,
   "metadata": {},
   "outputs": [],
   "source": [
    "from joblib import load\n",
    "clf_1_loaded = load(\"models/svr-gridsearch-cv-k5-featurecolumns.joblib\")"
   ]
  },
  {
   "cell_type": "code",
   "execution_count": 10,
   "metadata": {},
   "outputs": [
    {
     "data": {
      "text/plain": [
       "SVR(C=1000, cache_size=200, coef0=0.0, degree=3, epsilon=0.1, gamma='scale',\n",
       "    kernel='rbf', max_iter=-1, shrinking=True, tol=0.001, verbose=False)"
      ]
     },
     "execution_count": 10,
     "metadata": {},
     "output_type": "execute_result"
    }
   ],
   "source": [
    "clf_1_loaded.best_estimator_"
   ]
  },
  {
   "cell_type": "code",
   "execution_count": 11,
   "metadata": {},
   "outputs": [],
   "source": [
    "from sklearn.metrics import classification_report, confusion_matrix\n",
    "\n",
    "def test_(model, X, y):\n",
    "    X_train, X_test, y_train, y_test = train_test_split(X, y, test_size=0.2, random_state=0)\n",
    "    y_pred = model.predict(X_test)\n",
    "    return y_pred, y_test\n",
    "    \n",
    "y_pred_1, y_test_1 = test_(clf_1.best_estimator_, X_1, y_1)\n",
    "y_pred_2, y_test_2 = test_(clf_2.best_estimator_, X_2, y_2)\n",
    "y_pred_3, y_test_3 = test_(clf_3.best_estimator_, X_3, y_3)\n"
   ]
  },
  {
   "cell_type": "code",
   "execution_count": 21,
   "metadata": {},
   "outputs": [
    {
     "data": {
      "text/plain": [
       "0.8607607222176014"
      ]
     },
     "execution_count": 21,
     "metadata": {},
     "output_type": "execute_result"
    }
   ],
   "source": [
    "from sklearn.metrics import mean_squared_error, r2_score\n",
    "mse_1 = mean_squared_error(y_pred_1, y_test_1)\n",
    "mse_1"
   ]
  },
  {
   "cell_type": "code",
   "execution_count": 22,
   "metadata": {},
   "outputs": [
    {
     "data": {
      "text/plain": [
       "0.6191489554996112"
      ]
     },
     "execution_count": 22,
     "metadata": {},
     "output_type": "execute_result"
    }
   ],
   "source": [
    "r2_1 = r2_score(y_pred_1, y_test_1)\n",
    "r2_1"
   ]
  },
  {
   "cell_type": "code",
   "execution_count": 23,
   "metadata": {},
   "outputs": [
    {
     "data": {
      "text/plain": [
       "0.8615921074333458"
      ]
     },
     "execution_count": 23,
     "metadata": {},
     "output_type": "execute_result"
    }
   ],
   "source": [
    "mse_2 = mean_squared_error(y_pred_2, y_test_2)\n",
    "mse_2"
   ]
  },
  {
   "cell_type": "code",
   "execution_count": 24,
   "metadata": {},
   "outputs": [
    {
     "data": {
      "text/plain": [
       "0.6189992947762195"
      ]
     },
     "execution_count": 24,
     "metadata": {},
     "output_type": "execute_result"
    }
   ],
   "source": [
    "r2_2 = r2_score(y_pred_2, y_test_2)\n",
    "r2_2"
   ]
  },
  {
   "cell_type": "code",
   "execution_count": 25,
   "metadata": {},
   "outputs": [
    {
     "data": {
      "text/plain": [
       "0.16279428759831474"
      ]
     },
     "execution_count": 25,
     "metadata": {},
     "output_type": "execute_result"
    }
   ],
   "source": [
    "mse_3 = mean_squared_error(y_pred_3, y_test_3)\n",
    "mse_3"
   ]
  },
  {
   "cell_type": "code",
   "execution_count": 26,
   "metadata": {},
   "outputs": [
    {
     "data": {
      "text/plain": [
       "0.935561962494553"
      ]
     },
     "execution_count": 26,
     "metadata": {},
     "output_type": "execute_result"
    }
   ],
   "source": [
    "r2_3 = r2_score(y_pred_3, y_test_3)\n",
    "r2_3"
   ]
  },
  {
   "cell_type": "code",
   "execution_count": 27,
   "metadata": {},
   "outputs": [
    {
     "data": {
      "text/html": [
       "<div>\n",
       "<style scoped>\n",
       "    .dataframe tbody tr th:only-of-type {\n",
       "        vertical-align: middle;\n",
       "    }\n",
       "\n",
       "    .dataframe tbody tr th {\n",
       "        vertical-align: top;\n",
       "    }\n",
       "\n",
       "    .dataframe thead th {\n",
       "        text-align: right;\n",
       "    }\n",
       "</style>\n",
       "<table border=\"1\" class=\"dataframe\">\n",
       "  <thead>\n",
       "    <tr style=\"text-align: right;\">\n",
       "      <th></th>\n",
       "      <th>MSE</th>\n",
       "      <th>R^2</th>\n",
       "    </tr>\n",
       "  </thead>\n",
       "  <tbody>\n",
       "    <tr>\n",
       "      <td>0</td>\n",
       "      <td>0.860761</td>\n",
       "      <td>0.619149</td>\n",
       "    </tr>\n",
       "    <tr>\n",
       "      <td>1</td>\n",
       "      <td>0.861592</td>\n",
       "      <td>0.618999</td>\n",
       "    </tr>\n",
       "    <tr>\n",
       "      <td>2</td>\n",
       "      <td>0.162794</td>\n",
       "      <td>0.935562</td>\n",
       "    </tr>\n",
       "  </tbody>\n",
       "</table>\n",
       "</div>"
      ],
      "text/plain": [
       "        MSE       R^2\n",
       "0  0.860761  0.619149\n",
       "1  0.861592  0.618999\n",
       "2  0.162794  0.935562"
      ]
     },
     "execution_count": 27,
     "metadata": {},
     "output_type": "execute_result"
    }
   ],
   "source": [
    "pd.DataFrame([[mse_1, r2_1],[mse_2, r2_2], [mse_3, r2_3]], columns = [\"MSE\", \"R^2\"])"
   ]
  }
 ],
 "metadata": {
  "kernelspec": {
   "display_name": "Python 3",
   "language": "python",
   "name": "python3"
  },
  "language_info": {
   "codemirror_mode": {
    "name": "ipython",
    "version": 3
   },
   "file_extension": ".py",
   "mimetype": "text/x-python",
   "name": "python",
   "nbconvert_exporter": "python",
   "pygments_lexer": "ipython3",
   "version": "3.7.4"
  }
 },
 "nbformat": 4,
 "nbformat_minor": 2
}
