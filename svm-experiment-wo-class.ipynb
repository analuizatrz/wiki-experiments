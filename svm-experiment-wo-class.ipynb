{
 "cells": [
  {
   "cell_type": "code",
   "execution_count": 1,
   "metadata": {},
   "outputs": [],
   "source": [
    "import pandas as pd\n",
    "from utils import read_dataset\n",
    "\n",
    "dataset = read_dataset()"
   ]
  },
  {
   "cell_type": "code",
   "execution_count": 2,
   "metadata": {},
   "outputs": [],
   "source": [
    "from utils import read_dataset_metadata\n",
    "\n",
    "def list_except(list, except_item):\n",
    "    return [f for f in list if f != except_item]\n",
    "\n",
    "past_class = \"past_category\"\n",
    "\n",
    "target_column, feature_columns, feature_columns_with_delta, feature_columns_only_delta = read_dataset_metadata()\n",
    "feature_columns = list_except(feature_columns, past_class)\n",
    "feature_columns_with_delta = list_except(feature_columns_with_delta, past_class)\n",
    "feature_columns_only_delta = list_except(feature_columns_only_delta, past_class)"
   ]
  },
  {
   "cell_type": "code",
   "execution_count": 3,
   "metadata": {},
   "outputs": [],
   "source": [
    "from sklearn import svm, datasets\n",
    "from sklearn.model_selection import GridSearchCV\n",
    "from sklearn.model_selection import train_test_split\n",
    "from sklearn.metrics import classification_report, confusion_matrix\n",
    "from utils import get_X_y, get_X_y_without_duplicates\n",
    "from datetime import datetime\n",
    "\n",
    "X_1, y_1 = get_X_y(dataset, feature_columns, target_column)\n",
    "X_2, y_2 = get_X_y(dataset, feature_columns_with_delta, target_column)\n",
    "X_3, y_3 = get_X_y(dataset, feature_columns_only_delta, target_column)\n",
    "\n",
    "def train_(X, y):\n",
    "    begin = datetime.now()\n",
    "    print(begin)\n",
    "\n",
    "    X_train, X_test, y_train, y_test = train_test_split(X, y, test_size=0.2, random_state=0)\n",
    "\n",
    "    parameters = {'kernel':['rbf'], 'C':[1, 10, 100, 1000]}\n",
    "    svc = svm.SVC(gamma=\"scale\")\n",
    "    clf = GridSearchCV(svc, parameters, cv=5)\n",
    "\n",
    "    clf.fit(X_train, y_train)\n",
    "    end = datetime.now()\n",
    "    print(end)\n",
    "    \n",
    "    return begin, end, clf, X_train, X_test, y_train, y_test"
   ]
  },
  {
   "cell_type": "code",
   "execution_count": 4,
   "metadata": {},
   "outputs": [
    {
     "name": "stdout",
     "output_type": "stream",
     "text": [
      "2019-10-22 11:27:07.599588\n",
      "2019-10-22 13:27:18.140553\n"
     ]
    },
    {
     "data": {
      "text/plain": [
       "{'C': 1000, 'kernel': 'rbf'}"
      ]
     },
     "execution_count": 4,
     "metadata": {},
     "output_type": "execute_result"
    }
   ],
   "source": [
    "begin_1, end_1, clf_1, X_train_1, X_test_1, y_train_1, y_test_1 = train_(X_1, y_1)\n",
    "clf_1.best_params_"
   ]
  },
  {
   "cell_type": "code",
   "execution_count": 5,
   "metadata": {},
   "outputs": [
    {
     "name": "stdout",
     "output_type": "stream",
     "text": [
      "2019-10-22 13:27:18.152049\n",
      "2019-10-22 16:07:13.475777\n"
     ]
    },
    {
     "data": {
      "text/plain": [
       "{'C': 1000, 'kernel': 'rbf'}"
      ]
     },
     "execution_count": 5,
     "metadata": {},
     "output_type": "execute_result"
    }
   ],
   "source": [
    "begin_2, end_2, clf_2, X_train_2, X_test_2, y_train_2, y_test_2 = train_(X_2, y_2)\n",
    "clf_2.best_params_"
   ]
  },
  {
   "cell_type": "code",
   "execution_count": 6,
   "metadata": {},
   "outputs": [
    {
     "name": "stdout",
     "output_type": "stream",
     "text": [
      "2019-10-22 16:07:13.481609\n",
      "2019-10-22 18:23:44.196294\n"
     ]
    },
    {
     "data": {
      "text/plain": [
       "{'C': 1000, 'kernel': 'rbf'}"
      ]
     },
     "execution_count": 6,
     "metadata": {},
     "output_type": "execute_result"
    }
   ],
   "source": [
    "begin_3, end_3, clf_3, X_train_3, X_test_3, y_train_3, y_test_3 = train_(X_3, y_3)\n",
    "clf_3.best_params_"
   ]
  },
  {
   "cell_type": "code",
   "execution_count": 7,
   "metadata": {},
   "outputs": [],
   "source": [
    "#begin = datetime.now()\n",
    "#print(begin)\n",
    "##result = SVC(kernel='rbf', C=1, gamma='auto').fit(X_train, y_train)\n",
    "#end = datetime.now()\n",
    "#print(end)"
   ]
  },
  {
   "cell_type": "code",
   "execution_count": 8,
   "metadata": {},
   "outputs": [
    {
     "data": {
      "text/plain": [
       "['models/svm-gridsearch-cv-k5-featurecolumnsonlydelta_wopast.joblib']"
      ]
     },
     "execution_count": 8,
     "metadata": {},
     "output_type": "execute_result"
    }
   ],
   "source": [
    "from joblib import dump\n",
    "\n",
    "dump(clf_1, \"models/svm-gridsearch-cv-k5-featurecolumns_wopast.joblib\")\n",
    "dump(clf_2, \"models/svm-gridsearch-cv-k5-featurecolumnswithdelta_wopast.joblib\")\n",
    "dump(clf_3, \"models/svm-gridsearch-cv-k5-featurecolumnsonlydelta_wopast.joblib\")"
   ]
  },
  {
   "cell_type": "code",
   "execution_count": 9,
   "metadata": {},
   "outputs": [],
   "source": [
    "from joblib import load\n",
    "clf_1_loaded = load(\"models/svm-gridsearch-cv-k5-featurecolumns_wopast.joblib\")"
   ]
  },
  {
   "cell_type": "code",
   "execution_count": 10,
   "metadata": {},
   "outputs": [
    {
     "data": {
      "text/plain": [
       "SVC(C=1000, cache_size=200, class_weight=None, coef0=0.0,\n",
       "    decision_function_shape='ovr', degree=3, gamma='scale', kernel='rbf',\n",
       "    max_iter=-1, probability=False, random_state=None, shrinking=True,\n",
       "    tol=0.001, verbose=False)"
      ]
     },
     "execution_count": 10,
     "metadata": {},
     "output_type": "execute_result"
    }
   ],
   "source": [
    "clf_1_loaded.best_estimator_"
   ]
  },
  {
   "cell_type": "code",
   "execution_count": 11,
   "metadata": {},
   "outputs": [],
   "source": [
    "from sklearn.metrics import classification_report, confusion_matrix\n",
    "\n",
    "def test_(model, X, y):\n",
    "    X_train, X_test, y_train, y_test = train_test_split(X, y, test_size=0.2, random_state=0)\n",
    "    y_pred = model.predict(X_test)\n",
    "    return y_pred, y_test\n",
    "    \n",
    "y_pred_1, y_test_1 = test_(clf_1.best_estimator_, X_1, y_1)\n",
    "y_pred_2, y_test_2 = test_(clf_2.best_estimator_, X_2, y_2)\n",
    "y_pred_3, y_test_3 = test_(clf_3.best_estimator_, X_3, y_3)\n"
   ]
  },
  {
   "cell_type": "code",
   "execution_count": 12,
   "metadata": {},
   "outputs": [
    {
     "name": "stdout",
     "output_type": "stream",
     "text": [
      "dict_keys(['stub', 'start', 'b', 'a', 'ga', 'fa'])\n"
     ]
    }
   ],
   "source": [
    "from utils import number_for_class\n",
    "from sklearn.metrics import classification_report, confusion_matrix\n",
    "\n",
    "print(number_for_class.keys())\n",
    "\n",
    "def posfix(list, text):\n",
    "    return [f\"{t}_{text}\" for t in list]\n",
    "\n",
    "def print_confusion_matrix(y_pred, y_test):\n",
    "    classes = number_for_class.keys()\n",
    "    return pd.DataFrame(confusion_matrix(y_pred, y_test), index=posfix(classes,\"pred\"), columns=posfix(classes,\"true\"))    "
   ]
  },
  {
   "cell_type": "code",
   "execution_count": 13,
   "metadata": {},
   "outputs": [
    {
     "data": {
      "text/html": [
       "<div>\n",
       "<style scoped>\n",
       "    .dataframe tbody tr th:only-of-type {\n",
       "        vertical-align: middle;\n",
       "    }\n",
       "\n",
       "    .dataframe tbody tr th {\n",
       "        vertical-align: top;\n",
       "    }\n",
       "\n",
       "    .dataframe thead th {\n",
       "        text-align: right;\n",
       "    }\n",
       "</style>\n",
       "<table border=\"1\" class=\"dataframe\">\n",
       "  <thead>\n",
       "    <tr style=\"text-align: right;\">\n",
       "      <th></th>\n",
       "      <th>stub_true</th>\n",
       "      <th>start_true</th>\n",
       "      <th>b_true</th>\n",
       "      <th>a_true</th>\n",
       "      <th>ga_true</th>\n",
       "      <th>fa_true</th>\n",
       "    </tr>\n",
       "  </thead>\n",
       "  <tbody>\n",
       "    <tr>\n",
       "      <td>stub_pred</td>\n",
       "      <td>1287</td>\n",
       "      <td>278</td>\n",
       "      <td>22</td>\n",
       "      <td>3</td>\n",
       "      <td>2</td>\n",
       "      <td>16</td>\n",
       "    </tr>\n",
       "    <tr>\n",
       "      <td>start_pred</td>\n",
       "      <td>254</td>\n",
       "      <td>1085</td>\n",
       "      <td>395</td>\n",
       "      <td>61</td>\n",
       "      <td>127</td>\n",
       "      <td>20</td>\n",
       "    </tr>\n",
       "    <tr>\n",
       "      <td>b_pred</td>\n",
       "      <td>11</td>\n",
       "      <td>439</td>\n",
       "      <td>1242</td>\n",
       "      <td>378</td>\n",
       "      <td>254</td>\n",
       "      <td>146</td>\n",
       "    </tr>\n",
       "    <tr>\n",
       "      <td>a_pred</td>\n",
       "      <td>0</td>\n",
       "      <td>19</td>\n",
       "      <td>187</td>\n",
       "      <td>518</td>\n",
       "      <td>129</td>\n",
       "      <td>150</td>\n",
       "    </tr>\n",
       "    <tr>\n",
       "      <td>ga_pred</td>\n",
       "      <td>6</td>\n",
       "      <td>25</td>\n",
       "      <td>173</td>\n",
       "      <td>146</td>\n",
       "      <td>917</td>\n",
       "      <td>276</td>\n",
       "    </tr>\n",
       "    <tr>\n",
       "      <td>fa_pred</td>\n",
       "      <td>1</td>\n",
       "      <td>25</td>\n",
       "      <td>171</td>\n",
       "      <td>415</td>\n",
       "      <td>414</td>\n",
       "      <td>1375</td>\n",
       "    </tr>\n",
       "  </tbody>\n",
       "</table>\n",
       "</div>"
      ],
      "text/plain": [
       "            stub_true  start_true  b_true  a_true  ga_true  fa_true\n",
       "stub_pred        1287         278      22       3        2       16\n",
       "start_pred        254        1085     395      61      127       20\n",
       "b_pred             11         439    1242     378      254      146\n",
       "a_pred              0          19     187     518      129      150\n",
       "ga_pred             6          25     173     146      917      276\n",
       "fa_pred             1          25     171     415      414     1375"
      ]
     },
     "execution_count": 13,
     "metadata": {},
     "output_type": "execute_result"
    }
   ],
   "source": [
    "print_confusion_matrix(y_pred_1, y_test_1)"
   ]
  },
  {
   "cell_type": "code",
   "execution_count": 14,
   "metadata": {},
   "outputs": [
    {
     "name": "stdout",
     "output_type": "stream",
     "text": [
      "              precision    recall  f1-score   support\n",
      "\n",
      "        stub       0.80      0.83      0.81      1559\n",
      "       start       0.56      0.58      0.57      1871\n",
      "           b       0.50      0.57      0.53      2190\n",
      "           a       0.52      0.34      0.41      1521\n",
      "          ga       0.59      0.50      0.54      1843\n",
      "          fa       0.57      0.69      0.63      1983\n",
      "\n",
      "    accuracy                           0.59     10967\n",
      "   macro avg       0.59      0.58      0.58     10967\n",
      "weighted avg       0.58      0.59      0.58     10967\n",
      "\n"
     ]
    }
   ],
   "source": [
    "print(classification_report(y_test_1, y_pred_1, target_names = number_for_class.keys()))"
   ]
  },
  {
   "cell_type": "code",
   "execution_count": 15,
   "metadata": {},
   "outputs": [
    {
     "data": {
      "text/html": [
       "<div>\n",
       "<style scoped>\n",
       "    .dataframe tbody tr th:only-of-type {\n",
       "        vertical-align: middle;\n",
       "    }\n",
       "\n",
       "    .dataframe tbody tr th {\n",
       "        vertical-align: top;\n",
       "    }\n",
       "\n",
       "    .dataframe thead th {\n",
       "        text-align: right;\n",
       "    }\n",
       "</style>\n",
       "<table border=\"1\" class=\"dataframe\">\n",
       "  <thead>\n",
       "    <tr style=\"text-align: right;\">\n",
       "      <th></th>\n",
       "      <th>stub_true</th>\n",
       "      <th>start_true</th>\n",
       "      <th>b_true</th>\n",
       "      <th>a_true</th>\n",
       "      <th>ga_true</th>\n",
       "      <th>fa_true</th>\n",
       "    </tr>\n",
       "  </thead>\n",
       "  <tbody>\n",
       "    <tr>\n",
       "      <td>stub_pred</td>\n",
       "      <td>1286</td>\n",
       "      <td>279</td>\n",
       "      <td>20</td>\n",
       "      <td>2</td>\n",
       "      <td>3</td>\n",
       "      <td>17</td>\n",
       "    </tr>\n",
       "    <tr>\n",
       "      <td>start_pred</td>\n",
       "      <td>255</td>\n",
       "      <td>1084</td>\n",
       "      <td>394</td>\n",
       "      <td>62</td>\n",
       "      <td>130</td>\n",
       "      <td>18</td>\n",
       "    </tr>\n",
       "    <tr>\n",
       "      <td>b_pred</td>\n",
       "      <td>11</td>\n",
       "      <td>438</td>\n",
       "      <td>1243</td>\n",
       "      <td>380</td>\n",
       "      <td>243</td>\n",
       "      <td>148</td>\n",
       "    </tr>\n",
       "    <tr>\n",
       "      <td>a_pred</td>\n",
       "      <td>0</td>\n",
       "      <td>18</td>\n",
       "      <td>187</td>\n",
       "      <td>512</td>\n",
       "      <td>137</td>\n",
       "      <td>152</td>\n",
       "    </tr>\n",
       "    <tr>\n",
       "      <td>ga_pred</td>\n",
       "      <td>6</td>\n",
       "      <td>24</td>\n",
       "      <td>169</td>\n",
       "      <td>149</td>\n",
       "      <td>915</td>\n",
       "      <td>269</td>\n",
       "    </tr>\n",
       "    <tr>\n",
       "      <td>fa_pred</td>\n",
       "      <td>1</td>\n",
       "      <td>28</td>\n",
       "      <td>177</td>\n",
       "      <td>416</td>\n",
       "      <td>415</td>\n",
       "      <td>1379</td>\n",
       "    </tr>\n",
       "  </tbody>\n",
       "</table>\n",
       "</div>"
      ],
      "text/plain": [
       "            stub_true  start_true  b_true  a_true  ga_true  fa_true\n",
       "stub_pred        1286         279      20       2        3       17\n",
       "start_pred        255        1084     394      62      130       18\n",
       "b_pred             11         438    1243     380      243      148\n",
       "a_pred              0          18     187     512      137      152\n",
       "ga_pred             6          24     169     149      915      269\n",
       "fa_pred             1          28     177     416      415     1379"
      ]
     },
     "execution_count": 15,
     "metadata": {},
     "output_type": "execute_result"
    }
   ],
   "source": [
    "print_confusion_matrix(y_pred_2, y_test_2)"
   ]
  },
  {
   "cell_type": "code",
   "execution_count": 22,
   "metadata": {},
   "outputs": [
    {
     "name": "stdout",
     "output_type": "stream",
     "text": [
      "              precision    recall  f1-score   support\n",
      "\n",
      "        stub       0.80      0.82      0.81      1559\n",
      "       start       0.56      0.58      0.57      1871\n",
      "           b       0.50      0.57      0.53      2190\n",
      "           a       0.51      0.34      0.41      1521\n",
      "          ga       0.60      0.50      0.54      1843\n",
      "          fa       0.57      0.70      0.63      1983\n",
      "\n",
      "    accuracy                           0.59     10967\n",
      "   macro avg       0.59      0.58      0.58     10967\n",
      "weighted avg       0.58      0.59      0.58     10967\n",
      "\n"
     ]
    }
   ],
   "source": [
    "print(classification_report(y_test_2, y_pred_2, target_names = number_for_class.keys()))"
   ]
  },
  {
   "cell_type": "code",
   "execution_count": 17,
   "metadata": {},
   "outputs": [
    {
     "data": {
      "text/html": [
       "<div>\n",
       "<style scoped>\n",
       "    .dataframe tbody tr th:only-of-type {\n",
       "        vertical-align: middle;\n",
       "    }\n",
       "\n",
       "    .dataframe tbody tr th {\n",
       "        vertical-align: top;\n",
       "    }\n",
       "\n",
       "    .dataframe thead th {\n",
       "        text-align: right;\n",
       "    }\n",
       "</style>\n",
       "<table border=\"1\" class=\"dataframe\">\n",
       "  <thead>\n",
       "    <tr style=\"text-align: right;\">\n",
       "      <th></th>\n",
       "      <th>stub_true</th>\n",
       "      <th>start_true</th>\n",
       "      <th>b_true</th>\n",
       "      <th>a_true</th>\n",
       "      <th>ga_true</th>\n",
       "      <th>fa_true</th>\n",
       "    </tr>\n",
       "  </thead>\n",
       "  <tbody>\n",
       "    <tr>\n",
       "      <td>stub_pred</td>\n",
       "      <td>53</td>\n",
       "      <td>37</td>\n",
       "      <td>29</td>\n",
       "      <td>21</td>\n",
       "      <td>20</td>\n",
       "      <td>10</td>\n",
       "    </tr>\n",
       "    <tr>\n",
       "      <td>start_pred</td>\n",
       "      <td>1141</td>\n",
       "      <td>1132</td>\n",
       "      <td>961</td>\n",
       "      <td>577</td>\n",
       "      <td>770</td>\n",
       "      <td>803</td>\n",
       "    </tr>\n",
       "    <tr>\n",
       "      <td>b_pred</td>\n",
       "      <td>55</td>\n",
       "      <td>244</td>\n",
       "      <td>554</td>\n",
       "      <td>397</td>\n",
       "      <td>421</td>\n",
       "      <td>460</td>\n",
       "    </tr>\n",
       "    <tr>\n",
       "      <td>a_pred</td>\n",
       "      <td>2</td>\n",
       "      <td>8</td>\n",
       "      <td>37</td>\n",
       "      <td>40</td>\n",
       "      <td>35</td>\n",
       "      <td>37</td>\n",
       "    </tr>\n",
       "    <tr>\n",
       "      <td>ga_pred</td>\n",
       "      <td>1</td>\n",
       "      <td>12</td>\n",
       "      <td>32</td>\n",
       "      <td>25</td>\n",
       "      <td>46</td>\n",
       "      <td>38</td>\n",
       "    </tr>\n",
       "    <tr>\n",
       "      <td>fa_pred</td>\n",
       "      <td>307</td>\n",
       "      <td>438</td>\n",
       "      <td>577</td>\n",
       "      <td>461</td>\n",
       "      <td>551</td>\n",
       "      <td>635</td>\n",
       "    </tr>\n",
       "  </tbody>\n",
       "</table>\n",
       "</div>"
      ],
      "text/plain": [
       "            stub_true  start_true  b_true  a_true  ga_true  fa_true\n",
       "stub_pred          53          37      29      21       20       10\n",
       "start_pred       1141        1132     961     577      770      803\n",
       "b_pred             55         244     554     397      421      460\n",
       "a_pred              2           8      37      40       35       37\n",
       "ga_pred             1          12      32      25       46       38\n",
       "fa_pred           307         438     577     461      551      635"
      ]
     },
     "execution_count": 17,
     "metadata": {},
     "output_type": "execute_result"
    }
   ],
   "source": [
    "print_confusion_matrix(y_pred_3, y_test_3)"
   ]
  },
  {
   "cell_type": "code",
   "execution_count": 23,
   "metadata": {},
   "outputs": [
    {
     "name": "stdout",
     "output_type": "stream",
     "text": [
      "              precision    recall  f1-score   support\n",
      "\n",
      "        stub       0.31      0.03      0.06      1559\n",
      "       start       0.21      0.61      0.31      1871\n",
      "           b       0.26      0.25      0.26      2190\n",
      "           a       0.25      0.03      0.05      1521\n",
      "          ga       0.30      0.02      0.05      1843\n",
      "          fa       0.21      0.32      0.26      1983\n",
      "\n",
      "    accuracy                           0.22     10967\n",
      "   macro avg       0.26      0.21      0.16     10967\n",
      "weighted avg       0.26      0.22      0.17     10967\n",
      "\n"
     ]
    }
   ],
   "source": [
    "print(classification_report(y_test_3, y_pred_3, target_names = number_for_class.keys()))"
   ]
  }
 ],
 "metadata": {
  "kernelspec": {
   "display_name": "Python 3",
   "language": "python",
   "name": "python3"
  },
  "language_info": {
   "codemirror_mode": {
    "name": "ipython",
    "version": 3
   },
   "file_extension": ".py",
   "mimetype": "text/x-python",
   "name": "python",
   "nbconvert_exporter": "python",
   "pygments_lexer": "ipython3",
   "version": "3.7.4"
  }
 },
 "nbformat": 4,
 "nbformat_minor": 2
}
