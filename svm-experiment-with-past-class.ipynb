{
 "cells": [
  {
   "cell_type": "code",
   "execution_count": 9,
   "metadata": {},
   "outputs": [],
   "source": [
    "import pandas as pd\n",
    "from utils import read_dataset\n",
    "\n",
    "dataset = read_dataset()"
   ]
  },
  {
   "cell_type": "code",
   "execution_count": 10,
   "metadata": {},
   "outputs": [],
   "source": [
    "from utils import read_dataset_metadata\n",
    "\n",
    "target_column, feature_columns, feature_columns_with_delta, feature_columns_only_delta = read_dataset_metadata()"
   ]
  },
  {
   "cell_type": "code",
   "execution_count": 11,
   "metadata": {},
   "outputs": [],
   "source": [
    "from sklearn import svm, datasets\n",
    "from sklearn.model_selection import GridSearchCV\n",
    "from sklearn.model_selection import train_test_split\n",
    "from sklearn.metrics import classification_report, confusion_matrix\n",
    "from utils import get_X_y, get_X_y_without_duplicates\n",
    "from datetime import datetime\n",
    "\n",
    "X_1, y_1 = get_X_y(dataset, feature_columns, target_column)\n",
    "X_2, y_2 = get_X_y(dataset, feature_columns_with_delta, target_column)\n",
    "X_3, y_3 = get_X_y(dataset, feature_columns_only_delta, target_column)\n",
    "\n",
    "def train_(X, y):\n",
    "    begin = datetime.now()\n",
    "    print(begin)\n",
    "\n",
    "    X_train, X_test, y_train, y_test = train_test_split(X, y, test_size=0.2, random_state=0)\n",
    "\n",
    "    parameters = {'kernel':['rbf'], 'C':[1, 10, 100, 1000]}\n",
    "    svc = svm.SVC(gamma=\"scale\")\n",
    "    clf = GridSearchCV(svc, parameters, cv=5)\n",
    "\n",
    "    clf.fit(X_train, y_train)\n",
    "    end = datetime.now()\n",
    "    print(end)\n",
    "    \n",
    "    return begin, end, clf, X_train, X_test, y_train, y_test"
   ]
  },
  {
   "cell_type": "code",
   "execution_count": 12,
   "metadata": {},
   "outputs": [
    {
     "name": "stdout",
     "output_type": "stream",
     "text": [
      "2019-10-22 00:13:58.284495\n",
      "2019-10-22 02:14:07.974682\n"
     ]
    },
    {
     "data": {
      "text/plain": [
       "{'C': 1000, 'kernel': 'rbf'}"
      ]
     },
     "execution_count": 12,
     "metadata": {},
     "output_type": "execute_result"
    }
   ],
   "source": [
    "begin_1, end_1, clf_1, X_train_1, X_test_1, y_train_1, y_test_1 = train_(X_1, y_1)\n",
    "clf_1.best_params_"
   ]
  },
  {
   "cell_type": "code",
   "execution_count": 13,
   "metadata": {},
   "outputs": [
    {
     "name": "stdout",
     "output_type": "stream",
     "text": [
      "2019-10-22 02:14:08.151346\n",
      "2019-10-22 04:53:50.740113\n"
     ]
    },
    {
     "data": {
      "text/plain": [
       "{'C': 1000, 'kernel': 'rbf'}"
      ]
     },
     "execution_count": 13,
     "metadata": {},
     "output_type": "execute_result"
    }
   ],
   "source": [
    "begin_2, end_2, clf_2, X_train_2, X_test_2, y_train_2, y_test_2 = train_(X_2, y_2)\n",
    "clf_2.best_params_"
   ]
  },
  {
   "cell_type": "code",
   "execution_count": 14,
   "metadata": {},
   "outputs": [
    {
     "name": "stdout",
     "output_type": "stream",
     "text": [
      "2019-10-22 04:53:50.745818\n",
      "2019-10-22 07:41:45.141229\n"
     ]
    },
    {
     "data": {
      "text/plain": [
       "{'C': 1000, 'kernel': 'rbf'}"
      ]
     },
     "execution_count": 14,
     "metadata": {},
     "output_type": "execute_result"
    }
   ],
   "source": [
    "begin_3, end_3, clf_3, X_train_3, X_test_3, y_train_3, y_test_3 = train_(X_3, y_3)\n",
    "clf_3.best_params_"
   ]
  },
  {
   "cell_type": "code",
   "execution_count": 15,
   "metadata": {},
   "outputs": [],
   "source": [
    "#begin = datetime.now()\n",
    "#print(begin)\n",
    "##result = SVC(kernel='rbf', C=1, gamma='auto').fit(X_train, y_train)\n",
    "#end = datetime.now()\n",
    "#print(end)"
   ]
  },
  {
   "cell_type": "code",
   "execution_count": 24,
   "metadata": {},
   "outputs": [
    {
     "data": {
      "text/plain": [
       "['models/svm-gridsearch-cv-k5-featurecolumnsonlydelta.joblib']"
      ]
     },
     "execution_count": 24,
     "metadata": {},
     "output_type": "execute_result"
    }
   ],
   "source": [
    "from joblib import dump\n",
    "\n",
    "dump(clf_1, \"models/svm-gridsearch-cv-k5-featurecolumns.joblib\")\n",
    "dump(clf_2, \"models/svm-gridsearch-cv-k5-featurecolumnswithdelta.joblib\")\n",
    "dump(clf_3, \"models/svm-gridsearch-cv-k5-featurecolumnsonlydelta.joblib\")"
   ]
  },
  {
   "cell_type": "code",
   "execution_count": 25,
   "metadata": {},
   "outputs": [],
   "source": [
    "from joblib import load\n",
    "clf_1_loaded = load(\"models/svm-gridsearch-cv-k5-featurecolumns.joblib\")"
   ]
  },
  {
   "cell_type": "code",
   "execution_count": 27,
   "metadata": {},
   "outputs": [
    {
     "data": {
      "text/plain": [
       "SVC(C=1000, cache_size=200, class_weight=None, coef0=0.0,\n",
       "    decision_function_shape='ovr', degree=3, gamma='scale', kernel='rbf',\n",
       "    max_iter=-1, probability=False, random_state=None, shrinking=True,\n",
       "    tol=0.001, verbose=False)"
      ]
     },
     "execution_count": 27,
     "metadata": {},
     "output_type": "execute_result"
    }
   ],
   "source": [
    "clf_1_loaded.best_estimator_"
   ]
  },
  {
   "cell_type": "code",
   "execution_count": 32,
   "metadata": {},
   "outputs": [],
   "source": [
    "from sklearn.metrics import classification_report, confusion_matrix\n",
    "\n",
    "def test_(model, X, y):\n",
    "    X_train, X_test, y_train, y_test = train_test_split(X, y, test_size=0.2, random_state=0)\n",
    "    y_pred = model.predict(X_test)\n",
    "    return y_pred, y_test\n",
    "    \n",
    "y_pred_1, y_test_1 = test_(clf_1.best_estimator_, X_1, y_1)\n",
    "y_pred_2, y_test_2 = test_(clf_2.best_estimator_, X_2, y_2)\n",
    "y_pred_3, y_test_3 = test_(clf_3.best_estimator_, X_3, y_3)\n"
   ]
  },
  {
   "cell_type": "code",
   "execution_count": 45,
   "metadata": {},
   "outputs": [
    {
     "name": "stdout",
     "output_type": "stream",
     "text": [
      "dict_keys(['stub', 'start', 'b', 'a', 'ga', 'fa'])\n"
     ]
    }
   ],
   "source": [
    "from utils import number_for_class\n",
    "from sklearn.metrics import classification_report, confusion_matrix\n",
    "\n",
    "print(number_for_class.keys())\n",
    "\n",
    "def posfix(list, text):\n",
    "    return [f\"{t}_{text}\" for t in list]\n",
    "\n",
    "def print_confusion_matrix(y_pred, y_test):\n",
    "    classes = number_for_class.keys()\n",
    "    return pd.DataFrame(confusion_matrix(y_pred, y_test), index=posfix(classes,\"pred\"), columns=posfix(classes,\"true\"))    "
   ]
  },
  {
   "cell_type": "code",
   "execution_count": 46,
   "metadata": {},
   "outputs": [
    {
     "data": {
      "text/html": [
       "<div>\n",
       "<style scoped>\n",
       "    .dataframe tbody tr th:only-of-type {\n",
       "        vertical-align: middle;\n",
       "    }\n",
       "\n",
       "    .dataframe tbody tr th {\n",
       "        vertical-align: top;\n",
       "    }\n",
       "\n",
       "    .dataframe thead th {\n",
       "        text-align: right;\n",
       "    }\n",
       "</style>\n",
       "<table border=\"1\" class=\"dataframe\">\n",
       "  <thead>\n",
       "    <tr style=\"text-align: right;\">\n",
       "      <th></th>\n",
       "      <th>stub_true</th>\n",
       "      <th>start_true</th>\n",
       "      <th>b_true</th>\n",
       "      <th>a_true</th>\n",
       "      <th>ga_true</th>\n",
       "      <th>fa_true</th>\n",
       "    </tr>\n",
       "  </thead>\n",
       "  <tbody>\n",
       "    <tr>\n",
       "      <td>stub_pred</td>\n",
       "      <td>1286</td>\n",
       "      <td>278</td>\n",
       "      <td>22</td>\n",
       "      <td>2</td>\n",
       "      <td>2</td>\n",
       "      <td>16</td>\n",
       "    </tr>\n",
       "    <tr>\n",
       "      <td>start_pred</td>\n",
       "      <td>255</td>\n",
       "      <td>1087</td>\n",
       "      <td>394</td>\n",
       "      <td>62</td>\n",
       "      <td>124</td>\n",
       "      <td>20</td>\n",
       "    </tr>\n",
       "    <tr>\n",
       "      <td>b_pred</td>\n",
       "      <td>11</td>\n",
       "      <td>439</td>\n",
       "      <td>1251</td>\n",
       "      <td>378</td>\n",
       "      <td>247</td>\n",
       "      <td>142</td>\n",
       "    </tr>\n",
       "    <tr>\n",
       "      <td>a_pred</td>\n",
       "      <td>0</td>\n",
       "      <td>18</td>\n",
       "      <td>189</td>\n",
       "      <td>521</td>\n",
       "      <td>129</td>\n",
       "      <td>149</td>\n",
       "    </tr>\n",
       "    <tr>\n",
       "      <td>ga_pred</td>\n",
       "      <td>6</td>\n",
       "      <td>24</td>\n",
       "      <td>170</td>\n",
       "      <td>144</td>\n",
       "      <td>928</td>\n",
       "      <td>275</td>\n",
       "    </tr>\n",
       "    <tr>\n",
       "      <td>fa_pred</td>\n",
       "      <td>1</td>\n",
       "      <td>25</td>\n",
       "      <td>164</td>\n",
       "      <td>414</td>\n",
       "      <td>413</td>\n",
       "      <td>1381</td>\n",
       "    </tr>\n",
       "  </tbody>\n",
       "</table>\n",
       "</div>"
      ],
      "text/plain": [
       "            stub_true  start_true  b_true  a_true  ga_true  fa_true\n",
       "stub_pred        1286         278      22       2        2       16\n",
       "start_pred        255        1087     394      62      124       20\n",
       "b_pred             11         439    1251     378      247      142\n",
       "a_pred              0          18     189     521      129      149\n",
       "ga_pred             6          24     170     144      928      275\n",
       "fa_pred             1          25     164     414      413     1381"
      ]
     },
     "execution_count": 46,
     "metadata": {},
     "output_type": "execute_result"
    }
   ],
   "source": [
    "print_confusion_matrix(y_pred_1, y_test_1)"
   ]
  },
  {
   "cell_type": "code",
   "execution_count": 49,
   "metadata": {},
   "outputs": [
    {
     "name": "stdout",
     "output_type": "stream",
     "text": [
      "              precision    recall  f1-score   support\n",
      "\n",
      "        stub       0.80      0.82      0.81      1559\n",
      "       start       0.56      0.58      0.57      1871\n",
      "           b       0.51      0.57      0.54      2190\n",
      "           a       0.52      0.34      0.41      1521\n",
      "          ga       0.60      0.50      0.55      1843\n",
      "          fa       0.58      0.70      0.63      1983\n",
      "\n",
      "    accuracy                           0.59     10967\n",
      "   macro avg       0.59      0.59      0.59     10967\n",
      "weighted avg       0.59      0.59      0.58     10967\n",
      "\n"
     ]
    }
   ],
   "source": [
    "print(classification_report(y_test_1, y_pred_1, target_names = number_for_class.keys()))"
   ]
  },
  {
   "cell_type": "code",
   "execution_count": 47,
   "metadata": {},
   "outputs": [
    {
     "data": {
      "text/html": [
       "<div>\n",
       "<style scoped>\n",
       "    .dataframe tbody tr th:only-of-type {\n",
       "        vertical-align: middle;\n",
       "    }\n",
       "\n",
       "    .dataframe tbody tr th {\n",
       "        vertical-align: top;\n",
       "    }\n",
       "\n",
       "    .dataframe thead th {\n",
       "        text-align: right;\n",
       "    }\n",
       "</style>\n",
       "<table border=\"1\" class=\"dataframe\">\n",
       "  <thead>\n",
       "    <tr style=\"text-align: right;\">\n",
       "      <th></th>\n",
       "      <th>stub_true</th>\n",
       "      <th>start_true</th>\n",
       "      <th>b_true</th>\n",
       "      <th>a_true</th>\n",
       "      <th>ga_true</th>\n",
       "      <th>fa_true</th>\n",
       "    </tr>\n",
       "  </thead>\n",
       "  <tbody>\n",
       "    <tr>\n",
       "      <td>stub_pred</td>\n",
       "      <td>1286</td>\n",
       "      <td>279</td>\n",
       "      <td>19</td>\n",
       "      <td>2</td>\n",
       "      <td>3</td>\n",
       "      <td>16</td>\n",
       "    </tr>\n",
       "    <tr>\n",
       "      <td>start_pred</td>\n",
       "      <td>255</td>\n",
       "      <td>1086</td>\n",
       "      <td>394</td>\n",
       "      <td>62</td>\n",
       "      <td>126</td>\n",
       "      <td>20</td>\n",
       "    </tr>\n",
       "    <tr>\n",
       "      <td>b_pred</td>\n",
       "      <td>11</td>\n",
       "      <td>439</td>\n",
       "      <td>1249</td>\n",
       "      <td>380</td>\n",
       "      <td>240</td>\n",
       "      <td>147</td>\n",
       "    </tr>\n",
       "    <tr>\n",
       "      <td>a_pred</td>\n",
       "      <td>0</td>\n",
       "      <td>18</td>\n",
       "      <td>190</td>\n",
       "      <td>514</td>\n",
       "      <td>137</td>\n",
       "      <td>150</td>\n",
       "    </tr>\n",
       "    <tr>\n",
       "      <td>ga_pred</td>\n",
       "      <td>6</td>\n",
       "      <td>24</td>\n",
       "      <td>169</td>\n",
       "      <td>150</td>\n",
       "      <td>922</td>\n",
       "      <td>272</td>\n",
       "    </tr>\n",
       "    <tr>\n",
       "      <td>fa_pred</td>\n",
       "      <td>1</td>\n",
       "      <td>25</td>\n",
       "      <td>169</td>\n",
       "      <td>413</td>\n",
       "      <td>415</td>\n",
       "      <td>1378</td>\n",
       "    </tr>\n",
       "  </tbody>\n",
       "</table>\n",
       "</div>"
      ],
      "text/plain": [
       "            stub_true  start_true  b_true  a_true  ga_true  fa_true\n",
       "stub_pred        1286         279      19       2        3       16\n",
       "start_pred        255        1086     394      62      126       20\n",
       "b_pred             11         439    1249     380      240      147\n",
       "a_pred              0          18     190     514      137      150\n",
       "ga_pred             6          24     169     150      922      272\n",
       "fa_pred             1          25     169     413      415     1378"
      ]
     },
     "execution_count": 47,
     "metadata": {},
     "output_type": "execute_result"
    }
   ],
   "source": [
    "print_confusion_matrix(y_pred_2, y_test_2)"
   ]
  },
  {
   "cell_type": "code",
   "execution_count": 50,
   "metadata": {},
   "outputs": [
    {
     "name": "stdout",
     "output_type": "stream",
     "text": [
      "              precision    recall  f1-score   support\n",
      "\n",
      "        stub       0.80      0.82      0.81      1559\n",
      "       start       0.56      0.58      0.57      1871\n",
      "           b       0.51      0.57      0.54      2190\n",
      "           a       0.52      0.34      0.41      1521\n",
      "          ga       0.60      0.50      0.55      1843\n",
      "          fa       0.58      0.70      0.63      1983\n",
      "\n",
      "    accuracy                           0.59     10967\n",
      "   macro avg       0.59      0.59      0.59     10967\n",
      "weighted avg       0.59      0.59      0.58     10967\n",
      "\n"
     ]
    }
   ],
   "source": [
    "print(classification_report(y_test_1, y_pred_1, target_names = number_for_class.keys()))"
   ]
  },
  {
   "cell_type": "code",
   "execution_count": 48,
   "metadata": {},
   "outputs": [
    {
     "data": {
      "text/html": [
       "<div>\n",
       "<style scoped>\n",
       "    .dataframe tbody tr th:only-of-type {\n",
       "        vertical-align: middle;\n",
       "    }\n",
       "\n",
       "    .dataframe tbody tr th {\n",
       "        vertical-align: top;\n",
       "    }\n",
       "\n",
       "    .dataframe thead th {\n",
       "        text-align: right;\n",
       "    }\n",
       "</style>\n",
       "<table border=\"1\" class=\"dataframe\">\n",
       "  <thead>\n",
       "    <tr style=\"text-align: right;\">\n",
       "      <th></th>\n",
       "      <th>stub_true</th>\n",
       "      <th>start_true</th>\n",
       "      <th>b_true</th>\n",
       "      <th>a_true</th>\n",
       "      <th>ga_true</th>\n",
       "      <th>fa_true</th>\n",
       "    </tr>\n",
       "  </thead>\n",
       "  <tbody>\n",
       "    <tr>\n",
       "      <td>stub_pred</td>\n",
       "      <td>1548</td>\n",
       "      <td>14</td>\n",
       "      <td>5</td>\n",
       "      <td>2</td>\n",
       "      <td>3</td>\n",
       "      <td>2</td>\n",
       "    </tr>\n",
       "    <tr>\n",
       "      <td>start_pred</td>\n",
       "      <td>7</td>\n",
       "      <td>1789</td>\n",
       "      <td>22</td>\n",
       "      <td>10</td>\n",
       "      <td>19</td>\n",
       "      <td>8</td>\n",
       "    </tr>\n",
       "    <tr>\n",
       "      <td>b_pred</td>\n",
       "      <td>3</td>\n",
       "      <td>57</td>\n",
       "      <td>2066</td>\n",
       "      <td>52</td>\n",
       "      <td>79</td>\n",
       "      <td>27</td>\n",
       "    </tr>\n",
       "    <tr>\n",
       "      <td>a_pred</td>\n",
       "      <td>0</td>\n",
       "      <td>7</td>\n",
       "      <td>53</td>\n",
       "      <td>1404</td>\n",
       "      <td>37</td>\n",
       "      <td>35</td>\n",
       "    </tr>\n",
       "    <tr>\n",
       "      <td>ga_pred</td>\n",
       "      <td>1</td>\n",
       "      <td>3</td>\n",
       "      <td>32</td>\n",
       "      <td>39</td>\n",
       "      <td>1678</td>\n",
       "      <td>36</td>\n",
       "    </tr>\n",
       "    <tr>\n",
       "      <td>fa_pred</td>\n",
       "      <td>0</td>\n",
       "      <td>1</td>\n",
       "      <td>12</td>\n",
       "      <td>14</td>\n",
       "      <td>27</td>\n",
       "      <td>1875</td>\n",
       "    </tr>\n",
       "  </tbody>\n",
       "</table>\n",
       "</div>"
      ],
      "text/plain": [
       "            stub_true  start_true  b_true  a_true  ga_true  fa_true\n",
       "stub_pred        1548          14       5       2        3        2\n",
       "start_pred          7        1789      22      10       19        8\n",
       "b_pred              3          57    2066      52       79       27\n",
       "a_pred              0           7      53    1404       37       35\n",
       "ga_pred             1           3      32      39     1678       36\n",
       "fa_pred             0           1      12      14       27     1875"
      ]
     },
     "execution_count": 48,
     "metadata": {},
     "output_type": "execute_result"
    }
   ],
   "source": [
    "print_confusion_matrix(y_pred_3, y_test_3)"
   ]
  },
  {
   "cell_type": "code",
   "execution_count": 51,
   "metadata": {},
   "outputs": [
    {
     "name": "stdout",
     "output_type": "stream",
     "text": [
      "              precision    recall  f1-score   support\n",
      "\n",
      "        stub       0.80      0.82      0.81      1559\n",
      "       start       0.56      0.58      0.57      1871\n",
      "           b       0.51      0.57      0.54      2190\n",
      "           a       0.52      0.34      0.41      1521\n",
      "          ga       0.60      0.50      0.55      1843\n",
      "          fa       0.58      0.70      0.63      1983\n",
      "\n",
      "    accuracy                           0.59     10967\n",
      "   macro avg       0.59      0.59      0.59     10967\n",
      "weighted avg       0.59      0.59      0.58     10967\n",
      "\n"
     ]
    }
   ],
   "source": [
    "print(classification_report(y_test_1, y_pred_1, target_names = number_for_class.keys()))"
   ]
  }
 ],
 "metadata": {
  "kernelspec": {
   "display_name": "Python 3",
   "language": "python",
   "name": "python3"
  },
  "language_info": {
   "codemirror_mode": {
    "name": "ipython",
    "version": 3
   },
   "file_extension": ".py",
   "mimetype": "text/x-python",
   "name": "python",
   "nbconvert_exporter": "python",
   "pygments_lexer": "ipython3",
   "version": "3.7.4"
  }
 },
 "nbformat": 4,
 "nbformat_minor": 2
}
